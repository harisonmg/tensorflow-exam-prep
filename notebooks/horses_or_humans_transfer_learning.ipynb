{
  "nbformat": 4,
  "nbformat_minor": 0,
  "metadata": {
    "colab": {
      "name": "horses-or-humans-transfer-learning.ipynb",
      "provenance": [],
      "collapsed_sections": [],
      "toc_visible": true,
      "include_colab_link": true
    },
    "kernelspec": {
      "display_name": "Python 3",
      "name": "python3"
    },
    "accelerator": "GPU"
  },
  "cells": [
    {
      "cell_type": "markdown",
      "metadata": {
        "id": "view-in-github",
        "colab_type": "text"
      },
      "source": [
        "<a href=\"https://colab.research.google.com/github/harisonmg/tensorflow-exam-prep/blob/main/notebooks/horses_or_humans_transfer_learning.ipynb\" target=\"_parent\"><img src=\"https://colab.research.google.com/assets/colab-badge.svg\" alt=\"Open In Colab\"/></a>"
      ]
    },
    {
      "cell_type": "markdown",
      "metadata": {
        "id": "pD_2v_Cik5ew"
      },
      "source": [
        "## Getting the data"
      ]
    },
    {
      "cell_type": "code",
      "metadata": {
        "id": "dn-6c02VmqiN",
        "cellView": "form"
      },
      "source": [
        "#@title Imports\n",
        "from pathlib import Path\n",
        "from zipfile import ZipFile"
      ],
      "execution_count": null,
      "outputs": []
    },
    {
      "cell_type": "code",
      "metadata": {
        "cellView": "form",
        "id": "uVObttHdvAaC"
      },
      "source": [
        "#@title Config\n",
        "BASE_DIR = Path(\".\")\n",
        "DATASETS = {\n",
        "    \"train\": {\n",
        "        \"url\":  \"https://storage.googleapis.com/laurencemoroney-blog.appspot.com/horse-or-human.zip \",\n",
        "        \"local\": \"horse-or-human.zip\"\n",
        "    },\n",
        "    \"validation\": {\n",
        "        \"url\":  \"https://storage.googleapis.com/laurencemoroney-blog.appspot.com/validation-horse-or-human.zip\",\n",
        "        \"local\": \"validation-horse-or-human.zip\"\n",
        "    }\n",
        "}\n",
        "\n",
        "data_dir = BASE_DIR / \"horse_or_human\""
      ],
      "execution_count": null,
      "outputs": []
    },
    {
      "cell_type": "code",
      "metadata": {
        "colab": {
          "base_uri": "https://localhost:8080/"
        },
        "id": "3sd9dQWa23aj",
        "cellView": "form",
        "outputId": "fa5a92e9-2d46-42d6-c3b8-2fb83a80f7f6"
      },
      "source": [
        "#@title Downloading and extracting the data\n",
        "for name, dataset in DATASETS.items(): \n",
        "    dataset_url = dataset[\"url\"]\n",
        "    dataset_download = dataset[\"local\"]\n",
        "    subset_dir = data_dir / name\n",
        "    \n",
        "    !wget --no-check-certificate {dataset_url} -O {dataset_download}\n",
        "\n",
        "    with ZipFile(dataset_download, \"r\") as zip_ref:\n",
        "        zip_ref.extractall(subset_dir)"
      ],
      "execution_count": null,
      "outputs": [
        {
          "output_type": "stream",
          "text": [
            "--2021-08-17 08:58:12--  https://storage.googleapis.com/laurencemoroney-blog.appspot.com/horse-or-human.zip\n",
            "Resolving storage.googleapis.com (storage.googleapis.com)... 142.250.141.128, 142.251.2.128, 2607:f8b0:4023:c0d::80, ...\n",
            "Connecting to storage.googleapis.com (storage.googleapis.com)|142.250.141.128|:443... connected.\n",
            "HTTP request sent, awaiting response... 200 OK\n",
            "Length: 149574867 (143M) [application/zip]\n",
            "Saving to: ‘horse-or-human.zip’\n",
            "\n",
            "horse-or-human.zip  100%[===================>] 142.65M   255MB/s    in 0.6s    \n",
            "\n",
            "2021-08-17 08:58:13 (255 MB/s) - ‘horse-or-human.zip’ saved [149574867/149574867]\n",
            "\n",
            "--2021-08-17 08:58:14--  https://storage.googleapis.com/laurencemoroney-blog.appspot.com/validation-horse-or-human.zip\n",
            "Resolving storage.googleapis.com (storage.googleapis.com)... 142.250.141.128, 142.251.2.128, 2607:f8b0:4023:c06::80, ...\n",
            "Connecting to storage.googleapis.com (storage.googleapis.com)|142.250.141.128|:443... connected.\n",
            "HTTP request sent, awaiting response... 200 OK\n",
            "Length: 11480187 (11M) [application/zip]\n",
            "Saving to: ‘validation-horse-or-human.zip’\n",
            "\n",
            "validation-horse-or 100%[===================>]  10.95M  --.-KB/s    in 0.1s    \n",
            "\n",
            "2021-08-17 08:58:14 (90.5 MB/s) - ‘validation-horse-or-human.zip’ saved [11480187/11480187]\n",
            "\n"
          ],
          "name": "stdout"
        }
      ]
    },
    {
      "cell_type": "code",
      "metadata": {
        "id": "ry7PIgkjwpL7",
        "colab": {
          "base_uri": "https://localhost:8080/"
        },
        "cellView": "form",
        "outputId": "45443b7a-2208-45d4-ccd6-cd800169627e"
      },
      "source": [
        "#@title List the number of images per subset\n",
        "subset_dirs = list(data_dir.glob(\"*\"))\n",
        "for subset in subset_dirs:\n",
        "    formatting = \"\\n\" + \"=\"*10 + \" \"*4\n",
        "    print(f\"{formatting} {subset.name.title()} images {formatting[::-1]}\")\n",
        "\n",
        "    for category in list(subset.glob(\"*\")):\n",
        "        num_files = len(list(category.glob(\"*\")))\n",
        "        print(f\"{category.name}: {num_files}\")\n",
        "\n",
        "print(f\"\\nSubset directories: {subset_dirs}\")\n",
        "train_dir = data_dir / \"train\"\n",
        "validation_dir = data_dir / \"validation\""
      ],
      "execution_count": null,
      "outputs": [
        {
          "output_type": "stream",
          "text": [
            "\n",
            "==========     Train images     ==========\n",
            "\n",
            "humans: 527\n",
            "horses: 500\n",
            "\n",
            "==========     Validation images     ==========\n",
            "\n",
            "humans: 128\n",
            "horses: 128\n",
            "\n",
            "Subset directories: [PosixPath('horse_or_human/train'), PosixPath('horse_or_human/validation')]\n"
          ],
          "name": "stdout"
        }
      ]
    },
    {
      "cell_type": "markdown",
      "metadata": {
        "id": "HvbTMo_bsLS6"
      },
      "source": [
        "## Visualizing the data"
      ]
    },
    {
      "cell_type": "code",
      "metadata": {
        "id": "6AI0VcK-4ia_",
        "cellView": "form"
      },
      "source": [
        "#@title Imports\n",
        "import matplotlib.image as mpimg\n",
        "import matplotlib.pyplot as plt\n",
        "import numpy as np"
      ],
      "execution_count": null,
      "outputs": []
    },
    {
      "cell_type": "code",
      "metadata": {
        "cellView": "form",
        "id": "lVYZ25Y-sFXS"
      },
      "source": [
        "#@title Helper function\n",
        "def plot_images(data_dir, category_rows=2, cols=4, img_size=4):\n",
        "    category_paths = [path for path in list(data_dir.glob(\"*\")) if path.is_dir()]\n",
        "    images = {category.name: list(category.glob(\"*\")) for category in category_paths}\n",
        "\n",
        "    rows = category_rows * len(category_paths)\n",
        "    sample_images = {}\n",
        "    for category, img_paths in images.items():\n",
        "        sample_images[category] = np.random.choice(\n",
        "            img_paths, category_rows*cols, replace=False\n",
        "        )\n",
        "\n",
        "    fig, axes = plt.subplots(rows, cols, figsize=(img_size*rows, img_size*cols))\n",
        "    for i, img_data in enumerate(sample_images.items()):\n",
        "        category, img_paths = img_data\n",
        "        for j, path in enumerate(img_paths):\n",
        "            idx = j + i*(category_rows*cols)\n",
        "            ax = axes[idx//cols, idx%cols]\n",
        "            img = mpimg.imread(path)\n",
        "            ax.imshow(img)\n",
        "            ax.set_title(f\"{path.name}: {category}\")\n",
        "            ax.axis(\"off\")\n",
        "    plt.show()"
      ],
      "execution_count": null,
      "outputs": []
    },
    {
      "cell_type": "code",
      "metadata": {
        "id": "8aZ4311M496p",
        "cellView": "form"
      },
      "source": [
        "#@title Plotting sample training images \n",
        "# plot_images(train_dir)"
      ],
      "execution_count": null,
      "outputs": []
    },
    {
      "cell_type": "code",
      "metadata": {
        "id": "35kfDU2N-QDy",
        "cellView": "form"
      },
      "source": [
        "#@title Plotting sample validation images \n",
        "# plot_images(validation_dir)"
      ],
      "execution_count": null,
      "outputs": []
    },
    {
      "cell_type": "markdown",
      "metadata": {
        "id": "HUQi_VtGmb8d"
      },
      "source": [
        "## Model training"
      ]
    },
    {
      "cell_type": "code",
      "metadata": {
        "colab": {
          "base_uri": "https://localhost:8080/"
        },
        "id": "ZaYA3HC0m83-",
        "outputId": "6f0db9ad-6cbb-40f8-97ea-cba89dfdeaf5"
      },
      "source": [
        "#@title Imports\n",
        "from datetime import datetime\n",
        "\n",
        "from keras.preprocessing.image import ImageDataGenerator\n",
        "from tensorflow.keras import callbacks, layers, models, optimizers\n",
        "from tensorflow.keras.applications.inception_v3 import InceptionV3\n",
        "import tensorflow as tf\n",
        "\n",
        "print(f\"Tensorflow: {tf.__version__}\")"
      ],
      "execution_count": null,
      "outputs": [
        {
          "output_type": "stream",
          "text": [
            "Tensorflow: 2.5.0\n"
          ],
          "name": "stdout"
        }
      ]
    },
    {
      "cell_type": "code",
      "metadata": {
        "id": "fApn6bNcq3QS",
        "colab": {
          "base_uri": "https://localhost:8080/"
        },
        "outputId": "31c706f7-7332-4d33-a08e-e88d7a97285d"
      },
      "source": [
        "#@title Config\n",
        "BATCH_SIZE = 32\n",
        "IMAGE_SIZE = (150, 150)\n",
        "IMAGE_SHAPE = IMAGE_SIZE + (3,)\n",
        "MODEL_LOGS_DIR = data_dir / f\"{data_dir}_model\"\n",
        "\n",
        "epochs = 200\n",
        "learning_rate = 1e-4\n",
        "early_stopping_rounds = 5\n",
        "\n",
        "current_logs_dir = MODEL_LOGS_DIR / datetime.now().isoformat()\n",
        "checkpoint_filepath = current_logs_dir / \"checkpoints\"\n",
        "tensorboard_logs_dir = current_logs_dir / \"logs\"\n",
        "\n",
        "model_log_paths = [checkpoint_filepath, tensorboard_logs_dir]\n",
        "for path in model_log_paths:\n",
        "    if not path.exists():\n",
        "        path.mkdir(parents=True)\n",
        "        print(f\"Created: {path}\")"
      ],
      "execution_count": null,
      "outputs": [
        {
          "output_type": "stream",
          "text": [
            "Created: horse_or_human/horse_or_human_model/2021-08-17T08:58:16.522374/checkpoints\n",
            "Created: horse_or_human/horse_or_human_model/2021-08-17T08:58:16.522374/logs\n"
          ],
          "name": "stdout"
        }
      ]
    },
    {
      "cell_type": "code",
      "metadata": {
        "colab": {
          "base_uri": "https://localhost:8080/"
        },
        "cellView": "form",
        "id": "omRytkKPf0o8",
        "outputId": "77773f5f-2394-4d9e-b6b5-49b1d0c48f21"
      },
      "source": [
        "#@title Downloading pre-trained model weights\n",
        "model_weights_url = \"https://storage.googleapis.com/mledu-datasets/inception_v3_weights_tf_dim_ordering_tf_kernels_notop.h5\"\n",
        "model_weights_download = \"inception_v3_weights_tf_dim_ordering_tf_kernels_notop.h5\"\n",
        "\n",
        "!wget --no-check-certificate {model_weights_url} -O {model_weights_download}"
      ],
      "execution_count": null,
      "outputs": [
        {
          "output_type": "stream",
          "text": [
            "--2021-08-17 08:58:16--  https://storage.googleapis.com/mledu-datasets/inception_v3_weights_tf_dim_ordering_tf_kernels_notop.h5\n",
            "Resolving storage.googleapis.com (storage.googleapis.com)... 142.250.141.128, 142.251.2.128, 74.125.137.128, ...\n",
            "Connecting to storage.googleapis.com (storage.googleapis.com)|142.250.141.128|:443... connected.\n",
            "HTTP request sent, awaiting response... 200 OK\n",
            "Length: 87910968 (84M) [application/x-hdf]\n",
            "Saving to: ‘inception_v3_weights_tf_dim_ordering_tf_kernels_notop.h5’\n",
            "\n",
            "inception_v3_weight 100%[===================>]  83.84M   268MB/s    in 0.3s    \n",
            "\n",
            "2021-08-17 08:58:16 (268 MB/s) - ‘inception_v3_weights_tf_dim_ordering_tf_kernels_notop.h5’ saved [87910968/87910968]\n",
            "\n"
          ],
          "name": "stdout"
        }
      ]
    },
    {
      "cell_type": "code",
      "metadata": {
        "colab": {
          "base_uri": "https://localhost:8080/"
        },
        "cellView": "form",
        "id": "x9edg122iCEt",
        "outputId": "48ef1e3d-47fd-47fd-9946-0ea4d491eb68"
      },
      "source": [
        "#@title Loading the pre-trained model\n",
        "pre_trained_model = InceptionV3(\n",
        "    input_shape=IMAGE_SHAPE, include_top=False, weights=None\n",
        ")\n",
        "pre_trained_model.load_weights(model_weights_download)\n",
        "\n",
        "for layer in pre_trained_model.layers:\n",
        "    layer.trainable = False\n",
        "\n",
        "# [layer.name for layer in pre_trained_model.layers if layer.name.__contains__(\"mixed\")]\n",
        "last_layer_name = \"mixed8\" #@param [\"mixed0\", \"mixed1\", \"mixed2\", \"mixed3\", \"mixed4\", \"mixed5\", 'mixed6', \"mixed7\", \"mixed8\", \"mixed9_0\", \"mixed9\", \"mixed9_1\", \"mixed10\"]\n",
        "last_layer = pre_trained_model.get_layer(last_layer_name)\n",
        "last_output = last_layer.output\n",
        "\n",
        "show_model_summary = False #@param {type:\"boolean\"}\n",
        "if show_model_summary:\n",
        "    pre_trained_model.summary()\n",
        "else:\n",
        "    print(f\"Model: {pre_trained_model.name}\")\n",
        "    print(f\"Number of layers: {len(pre_trained_model.layers)}\")\n",
        "    print(f\"Last layer output shape: {last_layer.output_shape}\")"
      ],
      "execution_count": null,
      "outputs": [
        {
          "output_type": "stream",
          "text": [
            "Model: inception_v3\n",
            "Number of layers: 311\n",
            "Last layer output shape: (None, 3, 3, 1280)\n"
          ],
          "name": "stdout"
        }
      ]
    },
    {
      "cell_type": "code",
      "metadata": {
        "id": "fYWJbx5_qc06",
        "cellView": "form"
      },
      "source": [
        "#@title Model definition\n",
        "x = layers.Flatten()(last_output)\n",
        "x = layers.Dense(1024, activation='relu')(x)\n",
        "x = layers.Dropout(0.2)(x)                  \n",
        "x = layers.Dense  (1, activation='sigmoid')(x)           \n",
        "\n",
        "model = models.Model(pre_trained_model.input, x) \n",
        "model.compile(\n",
        "    optimizer=optimizers.RMSprop(learning_rate=learning_rate),\n",
        "    loss='binary_crossentropy',\n",
        "    metrics=['accuracy']\n",
        ")"
      ],
      "execution_count": null,
      "outputs": []
    },
    {
      "cell_type": "code",
      "metadata": {
        "colab": {
          "base_uri": "https://localhost:8080/"
        },
        "id": "mlNjoJ5D61N6",
        "outputId": "d8889419-b5b8-476d-e3e8-2e7467a86fa4"
      },
      "source": [
        "#@title Loading the data for training\n",
        "train_datagen = ImageDataGenerator(\n",
        "    rescale=1/255,\n",
        "    rotation_range=40,\n",
        "    width_shift_range=0.2,\n",
        "    height_shift_range=0.2,\n",
        "    shear_range=0.2,\n",
        "    zoom_range=0.2,\n",
        "    horizontal_flip=True,\n",
        "    fill_mode=\"nearest\"\n",
        ")\n",
        "train_generator = train_datagen.flow_from_directory(\n",
        "    train_dir,\n",
        "    target_size=IMAGE_SIZE,\n",
        "    batch_size=BATCH_SIZE,\n",
        "    class_mode=\"binary\"\n",
        ")\n",
        "\n",
        "validation_datagen = ImageDataGenerator(rescale=1/255)\n",
        "validation_generator = validation_datagen.flow_from_directory(\n",
        "    validation_dir,\n",
        "    target_size=IMAGE_SIZE,\n",
        "    batch_size=BATCH_SIZE,\n",
        "    class_mode=\"binary\"\n",
        ")\n",
        "\n",
        "# Expected Output:\n",
        "# Found 1027 images belonging to 2 classes.\n",
        "# Found 256 images belonging to 2 classes."
      ],
      "execution_count": null,
      "outputs": [
        {
          "output_type": "stream",
          "text": [
            "Found 1027 images belonging to 2 classes.\n",
            "Found 256 images belonging to 2 classes.\n"
          ],
          "name": "stdout"
        }
      ]
    },
    {
      "cell_type": "code",
      "metadata": {
        "id": "IWEIvqdDOVAB"
      },
      "source": [
        "#@title Model callbacks\n",
        "class CustomCallback(callbacks.Callback):\n",
        "  def on_epoch_end(self, epoch, logs={}):\n",
        "    threshold = 0.999\n",
        "    if(logs.get(\"val_accuracy\") > threshold):\n",
        "      print(f\"\\nReached {threshold:.1%} accuracy so cancelling training!\")\n",
        "      self.model.stop_training = True\n",
        "\n",
        "model_callbacks = [\n",
        "             CustomCallback(),\n",
        "             callbacks.ModelCheckpoint(filepath=checkpoint_filepath),\n",
        "             callbacks.EarlyStopping(patience=early_stopping_rounds),\n",
        "             callbacks.TensorBoard(tensorboard_logs_dir)\n",
        "]"
      ],
      "execution_count": null,
      "outputs": []
    },
    {
      "cell_type": "code",
      "metadata": {
        "colab": {
          "base_uri": "https://localhost:8080/"
        },
        "id": "KyS4n53w7DxC",
        "outputId": "86ec2a43-7113-42c5-a6ed-5e0770118d07"
      },
      "source": [
        "#@title Training the model\n",
        "history = model.fit(\n",
        "    train_generator,\n",
        "    epochs=epochs,\n",
        "    verbose=1,\n",
        "    validation_data=validation_generator,\n",
        "    callbacks=model_callbacks\n",
        ")"
      ],
      "execution_count": null,
      "outputs": [
        {
          "output_type": "stream",
          "text": [
            "Epoch 1/200\n",
            "33/33 [==============================] - 46s 393ms/step - loss: 0.3123 - accuracy: 0.9270 - val_loss: 0.0827 - val_accuracy: 0.9570\n",
            "INFO:tensorflow:Assets written to: horse_or_human/horse_or_human_model/2021-08-17T08:58:16.522374/checkpoints/assets\n",
            "Epoch 2/200\n",
            "33/33 [==============================] - 12s 350ms/step - loss: 0.0640 - accuracy: 0.9776 - val_loss: 0.0021 - val_accuracy: 1.0000\n",
            "\n",
            "Reached 99.9% accuracy so cancelling training!\n",
            "INFO:tensorflow:Assets written to: horse_or_human/horse_or_human_model/2021-08-17T08:58:16.522374/checkpoints/assets\n"
          ],
          "name": "stdout"
        }
      ]
    },
    {
      "cell_type": "markdown",
      "metadata": {
        "id": "2zsZ_bMWFRes"
      },
      "source": [
        "## Model evaluation"
      ]
    },
    {
      "cell_type": "code",
      "metadata": {
        "cellView": "form",
        "id": "X05LgK8ANyuw"
      },
      "source": [
        "#@title Imports\n",
        "import matplotlib.pyplot as plt\n",
        "import pandas as pd\n",
        "import seaborn as sns\n",
        "\n",
        "sns.set_theme(style=\"whitegrid\")"
      ],
      "execution_count": null,
      "outputs": []
    },
    {
      "cell_type": "code",
      "metadata": {
        "cellView": "form",
        "id": "M98ZcyytQmU8"
      },
      "source": [
        "#@title Helper function\n",
        "def get_metrics(training_history, metric, validation=True):\n",
        "    metrics = {\n",
        "        metric: training_history.get(metric)\n",
        "    }\n",
        "    if validation:\n",
        "        val_metric = \"val_\" + metric\n",
        "        metrics[val_metric] = training_history.get(val_metric)\n",
        "    return pd.DataFrame(metrics)"
      ],
      "execution_count": null,
      "outputs": []
    },
    {
      "cell_type": "code",
      "metadata": {
        "colab": {
          "base_uri": "https://localhost:8080/",
          "height": 485
        },
        "cellView": "form",
        "id": "0vwrQdyVODhb",
        "outputId": "b95813e2-5b02-4d12-806a-591780d57d19"
      },
      "source": [
        "#@title Plot training metrics\n",
        "rows, cols = 2, 1\n",
        "fig, axes = plt.subplots(rows, cols, figsize=(7*rows, 8*cols))\n",
        "\n",
        "accuracy = get_metrics(history.history, \"accuracy\")\n",
        "loss = get_metrics(history.history, \"loss\")\n",
        "sns.lineplot(data=accuracy, ax=axes[0])\n",
        "sns.lineplot(data=loss, ax=axes[1])\n",
        "plt.show()"
      ],
      "execution_count": null,
      "outputs": [
        {
          "output_type": "display_data",
          "data": {
            "image/png": "[encoded data removed]",
            "text/plain": [
              "<Figure size 1008x576 with 2 Axes>"
            ]
          },
          "metadata": {
            "tags": []
          }
        }
      ]
    },
    {
      "cell_type": "code",
      "metadata": {
        "id": "WQvPgTnXgMus"
      },
      "source": [
        "# %load_ext tensorboard\n",
        "# %tensorboard --logdir={tensorboard_logs_dir}"
      ],
      "execution_count": null,
      "outputs": []
    },
    {
      "cell_type": "code",
      "metadata": {
        "id": "LqL6FYUrtXpf",
        "cellView": "form"
      },
      "source": [
        "#@title Testing the model \n",
        "# # Here's a codeblock just for fun. You should be able to upload an image here \n",
        "# # and have it classified without crashing\n",
        "\n",
        "# import numpy as np\n",
        "# from google.colab import files\n",
        "# from keras.preprocessing import image\n",
        "\n",
        "# uploaded = files.upload()\n",
        "\n",
        "# for fn in uploaded.keys():\n",
        " \n",
        "#   # predicting images\n",
        "#   path = '/content/' + fn\n",
        "#   img = image.load_img(path, target_size=(# YOUR CODE HERE))\n",
        "#   x = image.img_to_array(img)\n",
        "#   x = np.expand_dims(x, axis=0)\n",
        "\n",
        "#   images = np.vstack([x])\n",
        "#   classes = model.predict(images, batch_size=10)\n",
        "#   print(classes[0])\n",
        "#   if classes[0]>0.5:\n",
        "#     print(fn + \" is a dog\")\n",
        "#   else:\n",
        "#     print(fn + \" is a cat\")"
      ],
      "execution_count": null,
      "outputs": []
    },
    {
      "cell_type": "markdown",
      "metadata": {
        "id": "1BBuAkowgXOf"
      },
      "source": [
        "## Saving the model to Google Drive"
      ]
    },
    {
      "cell_type": "code",
      "metadata": {
        "id": "_nZcE46JqlMY",
        "colab": {
          "base_uri": "https://localhost:8080/"
        },
        "cellView": "form",
        "outputId": "df95ebda-a6ff-41a8-98a5-5a45757722e1"
      },
      "source": [
        "#@title Copy the model checkpoints and logs to Google Drive\n",
        "from google.colab import drive\n",
        "\n",
        "drive.mount('/content/drive')\n",
        "google_drive_folder = \"/content/drive/MyDrive/tensorflow\"\n",
        "\n",
        "!mkdir {google_drive_folder}\n",
        "!cp -r {MODEL_LOGS_DIR} {google_drive_folder}"
      ],
      "execution_count": null,
      "outputs": [
        {
          "output_type": "stream",
          "text": [
            "Mounted at /content/drive\n",
            "mkdir: cannot create directory ‘/content/drive/MyDrive/tensorflow’: File exists\n"
          ],
          "name": "stdout"
        }
      ]
    }
  ]
}