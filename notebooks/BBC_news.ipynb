{
  "nbformat": 4,
  "nbformat_minor": 0,
  "metadata": {
    "colab": {
      "name": "BBC-news.ipynb",
      "provenance": [],
      "toc_visible": true,
      "include_colab_link": true
    },
    "kernelspec": {
      "display_name": "Python 3",
      "name": "python3"
    }
  },
  "cells": [
    {
      "cell_type": "markdown",
      "metadata": {
        "id": "view-in-github",
        "colab_type": "text"
      },
      "source": [
        "<a href=\"https://colab.research.google.com/github/harisonmg/tensorflow-exam-prep/blob/main/notebooks/BBC_news.ipynb\" target=\"_parent\"><img src=\"https://colab.research.google.com/assets/colab-badge.svg\" alt=\"Open In Colab\"/></a>"
      ]
    },
    {
      "cell_type": "markdown",
      "metadata": {
        "id": "pD_2v_Cik5ew"
      },
      "source": [
        "## Getting the data"
      ]
    },
    {
      "cell_type": "code",
      "metadata": {
        "cellView": "form",
        "id": "oNlTChX8Av8H"
      },
      "source": [
        "#@title Imports\n",
        "from pathlib import Path\n",
        "\n",
        "import pandas as pd"
      ],
      "execution_count": 1,
      "outputs": []
    },
    {
      "cell_type": "code",
      "metadata": {
        "id": "OQXI_tQHpNEb",
        "cellView": "form"
      },
      "source": [
        "#@title Config\n",
        "DATASET = {\n",
        "    \"url\":  \"https://storage.googleapis.com/laurencemoroney-blog.appspot.com/bbc-text.csv\",\n",
        "    \"local\": \"bbc-text.csv\",\n",
        "    \"target\": \"category\"\n",
        "}\n",
        "\n",
        "\n",
        "BASE_DIR = Path(\".\")\n",
        "data_file_path = BASE_DIR / DATASET[\"local\"]"
      ],
      "execution_count": 2,
      "outputs": []
    },
    {
      "cell_type": "code",
      "metadata": {
        "colab": {
          "base_uri": "https://localhost:8080/"
        },
        "id": "3sd9dQWa23aj",
        "cellView": "form",
        "outputId": "c02f4258-3db7-4e08-c91d-de20b62aea97"
      },
      "source": [
        "#@title Downloading and extracting the data\n",
        "dataset_url = DATASET[\"url\"]\n",
        "dataset_download = DATASET[\"local\"]\n",
        "target = DATASET[\"target\"]\n",
        "\n",
        "!wget --no-check-certificate {dataset_url} -O {dataset_download}\n"
      ],
      "execution_count": 3,
      "outputs": [
        {
          "output_type": "stream",
          "text": [
            "--2021-08-17 10:33:11--  https://storage.googleapis.com/laurencemoroney-blog.appspot.com/bbc-text.csv\n",
            "Resolving storage.googleapis.com (storage.googleapis.com)... 108.177.127.128, 172.217.218.128, 142.250.153.128, ...\n",
            "Connecting to storage.googleapis.com (storage.googleapis.com)|108.177.127.128|:443... connected.\n",
            "HTTP request sent, awaiting response... 200 OK\n",
            "Length: 5057493 (4.8M) [text/csv]\n",
            "Saving to: ‘bbc-text.csv’\n",
            "\n",
            "\rbbc-text.csv          0%[                    ]       0  --.-KB/s               \rbbc-text.csv        100%[===================>]   4.82M  --.-KB/s    in 0.04s   \n",
            "\n",
            "2021-08-17 10:33:12 (133 MB/s) - ‘bbc-text.csv’ saved [5057493/5057493]\n",
            "\n"
          ],
          "name": "stdout"
        }
      ]
    },
    {
      "cell_type": "code",
      "metadata": {
        "id": "ry7PIgkjwpL7",
        "cellView": "form"
      },
      "source": [
        "#@title Previewing the data\n",
        "bbc_news = pd.read_csv(data_file_path)\n",
        "bbc_news.head(10)\n",
        "\n",
        "# testing\n",
        "assert bbc_news.shape[0] == 2225"
      ],
      "execution_count": 4,
      "outputs": []
    },
    {
      "cell_type": "markdown",
      "metadata": {
        "id": "YOsHsE26_o9R"
      },
      "source": [
        "## Stopword removal"
      ]
    },
    {
      "cell_type": "code",
      "metadata": {
        "colab": {
          "base_uri": "https://localhost:8080/"
        },
        "cellView": "form",
        "id": "9Yncae1c_2bj",
        "outputId": "5a764299-b232-4e60-f7f5-52847fbe09ec"
      },
      "source": [
        "#@title Stopwords\n",
        "STOPWORDS = [ \"a\", \"about\", \"above\", \"after\", \"again\", \"against\", \"all\", \"am\", \"an\", \"and\", \"any\", \"are\", \"as\", \"at\", \"be\", \"because\", \"been\", \"before\", \"being\", \"below\", \"between\", \"both\", \"but\", \"by\", \"could\", \"did\", \"do\", \"does\", \"doing\", \"down\", \"during\", \"each\", \"few\", \"for\", \"from\", \"further\", \"had\", \"has\", \"have\", \"having\", \"he\", \"he'd\", \"he'll\", \"he's\", \"her\", \"here\", \"here's\", \"hers\", \"herself\", \"him\", \"himself\", \"his\", \"how\", \"how's\", \"i\", \"i'd\", \"i'll\", \"i'm\", \"i've\", \"if\", \"in\", \"into\", \"is\", \"it\", \"it's\", \"its\", \"itself\", \"let's\", \"me\", \"more\", \"most\", \"my\", \"myself\", \"nor\", \"of\", \"on\", \"once\", \"only\", \"or\", \"other\", \"ought\", \"our\", \"ours\", \"ourselves\", \"out\", \"over\", \"own\", \"same\", \"she\", \"she'd\", \"she'll\", \"she's\", \"should\", \"so\", \"some\", \"such\", \"than\", \"that\", \"that's\", \"the\", \"their\", \"theirs\", \"them\", \"themselves\", \"then\", \"there\", \"there's\", \"these\", \"they\", \"they'd\", \"they'll\", \"they're\", \"they've\", \"this\", \"those\", \"through\", \"to\", \"too\", \"under\", \"until\", \"up\", \"very\", \"was\", \"we\", \"we'd\", \"we'll\", \"we're\", \"we've\", \"were\", \"what\", \"what's\", \"when\", \"when's\", \"where\", \"where's\", \"which\", \"while\", \"who\", \"who's\", \"whom\", \"why\", \"why's\", \"with\", \"would\", \"you\", \"you'd\", \"you'll\", \"you're\", \"you've\", \"your\", \"yours\", \"yourself\", \"yourselves\" ]\n",
        "\n",
        "num_stopwords = len(STOPWORDS)\n",
        "assert num_stopwords == 153\n",
        "print(f\"Number of stopwords: {num_stopwords}\")"
      ],
      "execution_count": 5,
      "outputs": [
        {
          "output_type": "stream",
          "text": [
            "Number of stopwords: 153\n"
          ],
          "name": "stdout"
        }
      ]
    },
    {
      "cell_type": "code",
      "metadata": {
        "cellView": "form",
        "id": "AhUjDGnxBGXT"
      },
      "source": [
        "#@title Helper functions\n",
        "def remove_stopwords(string, stopwords=None):\n",
        "    if stopwords is not None:\n",
        "        cleaned_string = \" \".join([word for word in string.split() if word not in stopwords])\n",
        "        return cleaned_string\n",
        "    return string\n",
        "\n",
        "def remove_stopwords_from_df(df, text_cols, stopwords=None):\n",
        "    clean_df = df.copy()\n",
        "    for col in text_cols:\n",
        "        clean_df[col] = clean_df[col].apply(remove_stopwords, stopwords=stopwords)\n",
        "    return clean_df"
      ],
      "execution_count": 6,
      "outputs": []
    },
    {
      "cell_type": "code",
      "metadata": {
        "colab": {
          "base_uri": "https://localhost:8080/"
        },
        "cellView": "form",
        "id": "ZB0cwiTf_rl7",
        "outputId": "127e3137-f1ab-4f95-92c6-1f34054ffeb1"
      },
      "source": [
        "#@title Removing stopwords\n",
        "clean_bbc_news = remove_stopwords_from_df(\n",
        "    bbc_news, text_cols=[\"text\"], stopwords=STOPWORDS\n",
        ")\n",
        "\n",
        "# testing\n",
        "first_clean_report = clean_bbc_news.loc[0, \"text\"]\n",
        "clean_report = \"tv future hands viewers home theatre systems plasma high-definition tvs digital video recorders moving living room way people watch tv will radically different five years time. according expert panel gathered annual consumer electronics show las vegas discuss new technologies will impact one favourite pastimes. us leading trend programmes content will delivered viewers via home networks cable satellite telecoms companies broadband service providers front rooms portable devices. one talked-about technologies ces digital personal video recorders (dvr pvr). set-top boxes like us s tivo uk s sky+ system allow people record store play pause forward wind tv programmes want. essentially technology allows much personalised tv. also built-in high-definition tv sets big business japan us slower take off europe lack high-definition programming. not can people forward wind adverts can also forget abiding network channel schedules putting together a-la-carte entertainment. us networks cable satellite companies worried means terms advertising revenues well brand identity viewer loyalty channels. although us leads technology moment also concern raised europe particularly growing uptake services like sky+. happens today will see nine months years time uk adam hume bbc broadcast s futurologist told bbc news website. likes bbc no issues lost advertising revenue yet. pressing issue moment commercial uk broadcasters brand loyalty important everyone. will talking content brands rather network brands said tim hanlon brand communications firm starcom mediavest. reality broadband connections anybody can producer content. added: challenge now hard promote programme much choice. means said stacey jolna senior vice president tv guide tv group way people find content want watch simplified tv viewers. means networks us terms channels take leaf google s book search engine future instead scheduler help people find want watch. kind channel model might work younger ipod generation used taking control gadgets play them. might not suit everyone panel recognised. older generations comfortable familiar schedules channel brands know getting. perhaps not want much choice put hands mr hanlon suggested. end kids just diapers pushing buttons already - everything possible available said mr hanlon. ultimately consumer will tell market want. 50 000 new gadgets technologies showcased ces many enhancing tv-watching experience. high-definition tv sets everywhere many new models lcd (liquid crystal display) tvs launched dvr capability built instead external boxes. one example launched show humax s 26-inch lcd tv 80-hour tivo dvr dvd recorder. one us s biggest satellite tv companies directtv even launched branded dvr show 100-hours recording capability instant replay search function. set can pause rewind tv 90 hours. microsoft chief bill gates announced pre-show keynote speech partnership tivo called tivotogo means people can play recorded programmes windows pcs mobile devices. reflect increasing trend freeing multimedia people can watch want want.\"\n",
        "assert first_clean_report == clean_report\n",
        "print(f\"First item:\\n {first_clean_report}\")"
      ],
      "execution_count": 7,
      "outputs": [
        {
          "output_type": "stream",
          "text": [
            "First item:\n",
            " tv future hands viewers home theatre systems plasma high-definition tvs digital video recorders moving living room way people watch tv will radically different five years time. according expert panel gathered annual consumer electronics show las vegas discuss new technologies will impact one favourite pastimes. us leading trend programmes content will delivered viewers via home networks cable satellite telecoms companies broadband service providers front rooms portable devices. one talked-about technologies ces digital personal video recorders (dvr pvr). set-top boxes like us s tivo uk s sky+ system allow people record store play pause forward wind tv programmes want. essentially technology allows much personalised tv. also built-in high-definition tv sets big business japan us slower take off europe lack high-definition programming. not can people forward wind adverts can also forget abiding network channel schedules putting together a-la-carte entertainment. us networks cable satellite companies worried means terms advertising revenues well brand identity viewer loyalty channels. although us leads technology moment also concern raised europe particularly growing uptake services like sky+. happens today will see nine months years time uk adam hume bbc broadcast s futurologist told bbc news website. likes bbc no issues lost advertising revenue yet. pressing issue moment commercial uk broadcasters brand loyalty important everyone. will talking content brands rather network brands said tim hanlon brand communications firm starcom mediavest. reality broadband connections anybody can producer content. added: challenge now hard promote programme much choice. means said stacey jolna senior vice president tv guide tv group way people find content want watch simplified tv viewers. means networks us terms channels take leaf google s book search engine future instead scheduler help people find want watch. kind channel model might work younger ipod generation used taking control gadgets play them. might not suit everyone panel recognised. older generations comfortable familiar schedules channel brands know getting. perhaps not want much choice put hands mr hanlon suggested. end kids just diapers pushing buttons already - everything possible available said mr hanlon. ultimately consumer will tell market want. 50 000 new gadgets technologies showcased ces many enhancing tv-watching experience. high-definition tv sets everywhere many new models lcd (liquid crystal display) tvs launched dvr capability built instead external boxes. one example launched show humax s 26-inch lcd tv 80-hour tivo dvr dvd recorder. one us s biggest satellite tv companies directtv even launched branded dvr show 100-hours recording capability instant replay search function. set can pause rewind tv 90 hours. microsoft chief bill gates announced pre-show keynote speech partnership tivo called tivotogo means people can play recorded programmes windows pcs mobile devices. reflect increasing trend freeing multimedia people can watch want want.\n"
          ],
          "name": "stdout"
        }
      ]
    },
    {
      "cell_type": "markdown",
      "metadata": {
        "id": "RKoMurr2lx6I"
      },
      "source": [
        "## Splitting the data"
      ]
    },
    {
      "cell_type": "code",
      "metadata": {
        "id": "7juaRrgx4vW8",
        "cellView": "form"
      },
      "source": [
        "#@title Imports\n",
        "from sklearn.model_selection import train_test_split\n",
        "import numpy as np"
      ],
      "execution_count": 8,
      "outputs": []
    },
    {
      "cell_type": "code",
      "metadata": {
        "id": "gX8PU5ceZTus",
        "cellView": "form"
      },
      "source": [
        "#@title Helper function\n",
        "def train_val_test_split(data, train_size=0.7, test_split=False, random_state=42):\n",
        "    subsets = [\"training\", \"validation\", \"test\"]\n",
        "    if not test_split:\n",
        "        subsets.remove(\"test\")\n",
        "\n",
        "    # split\n",
        "    train_data, val_data = train_test_split(\n",
        "        data, train_size=train_size, random_state=random_state\n",
        "    )\n",
        "    if test_split:\n",
        "        val_data, test_data = train_test_split(\n",
        "            val_data, train_size=train_size, random_state=random_state\n",
        "        )\n",
        "        data_subsets = [train_data, val_data, test_data]\n",
        "    else:\n",
        "        data_subsets = [train_data, val_data]\n",
        "        \n",
        "    # test\n",
        "    subset_lengths = [subset.shape[0] for subset in data_subsets]\n",
        "    assert sum(subset_lengths) == data.shape[0]\n",
        "    return dict(zip(subsets, data_subsets))"
      ],
      "execution_count": 9,
      "outputs": []
    },
    {
      "cell_type": "code",
      "metadata": {
        "colab": {
          "base_uri": "https://localhost:8080/",
          "height": 330
        },
        "id": "teyQGTFG1EoU",
        "cellView": "form",
        "outputId": "447eb6b1-7bba-455d-b7b5-11761f43e46a"
      },
      "source": [
        "#@title Create train, validation and test splits\n",
        "data_subsets = train_val_test_split(clean_bbc_news, train_size=0.8, test_split=False)\n",
        "for name, data in data_subsets.items():\n",
        "    formatting = \"\\n\" + \"-\"*6 + \" \"*2\n",
        "    print(f\"{formatting} {name.title()} data {formatting[::-1]}\")\n",
        "    display(data[target].value_counts())\n",
        "\n",
        "train_data, validation_data = data_subsets.values()\n",
        "# tests\n",
        "assert train_data.shape[0] == 1780\n",
        "assert validation_data.shape[0] == 445"
      ],
      "execution_count": 10,
      "outputs": [
        {
          "output_type": "stream",
          "text": [
            "\n",
            "------   Training data   ------\n",
            "\n"
          ],
          "name": "stdout"
        },
        {
          "output_type": "display_data",
          "data": {
            "text/plain": [
              "sport            413\n",
              "business         409\n",
              "politics         334\n",
              "tech             319\n",
              "entertainment    305\n",
              "Name: category, dtype: int64"
            ]
          },
          "metadata": {
            "tags": []
          }
        },
        {
          "output_type": "stream",
          "text": [
            "\n",
            "------   Validation data   ------\n",
            "\n"
          ],
          "name": "stdout"
        },
        {
          "output_type": "display_data",
          "data": {
            "text/plain": [
              "business         101\n",
              "sport             98\n",
              "politics          83\n",
              "tech              82\n",
              "entertainment     81\n",
              "Name: category, dtype: int64"
            ]
          },
          "metadata": {
            "tags": []
          }
        }
      ]
    },
    {
      "cell_type": "markdown",
      "metadata": {
        "id": "WowrvvcjKndc"
      },
      "source": [
        "## Tokenization"
      ]
    },
    {
      "cell_type": "code",
      "metadata": {
        "cellView": "form",
        "id": "q2_HvGnPKqIR"
      },
      "source": [
        "#@title Imports\n",
        "from tensorflow.keras.preprocessing.text import Tokenizer\n",
        "from tensorflow.keras.preprocessing.sequence import pad_sequences"
      ],
      "execution_count": 11,
      "outputs": []
    },
    {
      "cell_type": "code",
      "metadata": {
        "cellView": "form",
        "id": "LwdkhFY8Kx5i"
      },
      "source": [
        "#@title Config\n",
        "vocab_size = 10000\n",
        "embedding_dim = 16\n",
        "max_length = 120\n",
        "trunc_type = \"post\"\n",
        "padding_type = \"post\"\n",
        "oov_token = \"<OOV>\""
      ],
      "execution_count": 12,
      "outputs": []
    },
    {
      "cell_type": "code",
      "metadata": {
        "cellView": "form",
        "id": "h0t6grPjLuhX"
      },
      "source": [
        "#@title Tokenize and pad sequences\n",
        "# tokenize text\n",
        "tokenizer = Tokenizer(vocab_size, oov_token=oov_token)\n",
        "tokenizer.fit_on_texts(train_data[\"text\"])\n",
        "word_index = tokenizer.word_index\n",
        "\n",
        "train_sequences = tokenizer.texts_to_sequences(train_data[\"text\"])\n",
        "train_padded = pad_sequences(\n",
        "    train_sequences,\n",
        "    maxlen=max_length,\n",
        "    padding=padding_type,\n",
        "    truncating=trunc_type\n",
        ")\n",
        "validation_sequences = tokenizer.texts_to_sequences(validation_data[\"text\"])\n",
        "validation_padded = pad_sequences(\n",
        "    validation_sequences,\n",
        "    maxlen=max_length,\n",
        "    padding=padding_type,\n",
        "    truncating=trunc_type\n",
        ")\n",
        "\n",
        "# tokenize labels\n",
        "label_tokenizer = Tokenizer()\n",
        "label_tokenizer.fit_on_texts(train_data[target])\n",
        "\n",
        "training_label_seq = np.array(label_tokenizer.texts_to_sequences(train_data[target]))\n",
        "validation_label_seq = np.array(label_tokenizer.texts_to_sequences(validation_data[target]))"
      ],
      "execution_count": 13,
      "outputs": []
    },
    {
      "cell_type": "markdown",
      "metadata": {
        "id": "HUQi_VtGmb8d"
      },
      "source": [
        "## Model training"
      ]
    },
    {
      "cell_type": "code",
      "metadata": {
        "colab": {
          "base_uri": "https://localhost:8080/"
        },
        "cellView": "form",
        "id": "ZaYA3HC0m83-",
        "outputId": "79c6dc2a-5996-417c-c594-e7242b48f214"
      },
      "source": [
        "#@title Imports\n",
        "from datetime import datetime\n",
        "\n",
        "from keras.preprocessing.image import ImageDataGenerator\n",
        "from tensorflow.keras import callbacks, layers, models, optimizers\n",
        "import tensorflow as tf\n",
        "\n",
        "print(f\"Tensorflow: {tf.__version__}\")"
      ],
      "execution_count": 14,
      "outputs": [
        {
          "output_type": "stream",
          "text": [
            "Tensorflow: 2.5.0\n"
          ],
          "name": "stdout"
        }
      ]
    },
    {
      "cell_type": "code",
      "metadata": {
        "id": "fApn6bNcq3QS",
        "colab": {
          "base_uri": "https://localhost:8080/"
        },
        "outputId": "7f7c81c8-1060-474f-e738-26faaffa3a40"
      },
      "source": [
        "#@title Config\n",
        "BATCH_SIZE = 32\n",
        "IMAGE_SIZE = (150, 150)\n",
        "IMAGE_SHAPE = IMAGE_SIZE + (3,)\n",
        "MODEL_LOGS_DIR = BASE_DIR / f\"{Path(dataset_download).stem}_model\"\n",
        "\n",
        "epochs = 200\n",
        "learning_rate = 1e-3\n",
        "early_stopping_rounds = 3\n",
        "\n",
        "current_logs_dir = MODEL_LOGS_DIR / datetime.now().isoformat()\n",
        "checkpoint_filepath = current_logs_dir / \"checkpoints\"\n",
        "tensorboard_logs_dir = current_logs_dir / \"logs\"\n",
        "\n",
        "model_log_paths = [checkpoint_filepath, tensorboard_logs_dir]\n",
        "for path in model_log_paths:\n",
        "    if not path.exists():\n",
        "        path.mkdir(parents=True)\n",
        "        print(f\"Created: {path}\")"
      ],
      "execution_count": 15,
      "outputs": [
        {
          "output_type": "stream",
          "text": [
            "Created: bbc-text_model/2021-08-17T10:33:17.915054/checkpoints\n",
            "Created: bbc-text_model/2021-08-17T10:33:17.915054/logs\n"
          ],
          "name": "stdout"
        }
      ]
    },
    {
      "cell_type": "code",
      "metadata": {
        "colab": {
          "base_uri": "https://localhost:8080/"
        },
        "id": "-BQrav4anTmj",
        "outputId": "2c371be2-71e4-463e-f6b9-7df922c4684f"
      },
      "source": [
        "#@title Model definition\n",
        "model = models.Sequential([\n",
        "    layers.Embedding(\n",
        "        input_dim=vocab_size,\n",
        "        output_dim=embedding_dim,\n",
        "        input_length=max_length\n",
        "    ),\n",
        "    layers.GlobalAveragePooling1D(),\n",
        "    layers.Dense(24, activation=\"relu\"),\n",
        "    layers.Dense(6, activation=\"softmax\")\n",
        "])\n",
        "\n",
        "model.compile(\n",
        "    optimizer=optimizers.Adam(learning_rate=learning_rate),\n",
        "    loss=\"sparse_categorical_crossentropy\",\n",
        "    metrics=[\"accuracy\"]\n",
        ")\n",
        "model.summary()"
      ],
      "execution_count": 16,
      "outputs": [
        {
          "output_type": "stream",
          "text": [
            "Model: \"sequential\"\n",
            "_________________________________________________________________\n",
            "Layer (type)                 Output Shape              Param #   \n",
            "=================================================================\n",
            "embedding (Embedding)        (None, 120, 16)           160000    \n",
            "_________________________________________________________________\n",
            "global_average_pooling1d (Gl (None, 16)                0         \n",
            "_________________________________________________________________\n",
            "dense (Dense)                (None, 24)                408       \n",
            "_________________________________________________________________\n",
            "dense_1 (Dense)              (None, 6)                 150       \n",
            "=================================================================\n",
            "Total params: 160,558\n",
            "Trainable params: 160,558\n",
            "Non-trainable params: 0\n",
            "_________________________________________________________________\n"
          ],
          "name": "stdout"
        }
      ]
    },
    {
      "cell_type": "code",
      "metadata": {
        "id": "IWEIvqdDOVAB"
      },
      "source": [
        "#@title Model callbacks\n",
        "class CustomCallback(callbacks.Callback):\n",
        "  def on_epoch_end(self, epoch, logs={}):\n",
        "    threshold = 0.95\n",
        "    if(logs.get(\"val_accuracy\") > threshold):\n",
        "      print(f\"\\nReached {threshold:.1%} accuracy so cancelling training!\")\n",
        "      self.model.stop_training = True\n",
        "\n",
        "model_callbacks = [\n",
        "             CustomCallback(),\n",
        "             callbacks.ModelCheckpoint(filepath=checkpoint_filepath),\n",
        "             callbacks.EarlyStopping(patience=early_stopping_rounds),\n",
        "             callbacks.TensorBoard(tensorboard_logs_dir)\n",
        "]"
      ],
      "execution_count": 17,
      "outputs": []
    },
    {
      "cell_type": "code",
      "metadata": {
        "colab": {
          "base_uri": "https://localhost:8080/"
        },
        "id": "KyS4n53w7DxC",
        "outputId": "cd10d1cc-3960-4c41-dd72-a921ffd0ce42"
      },
      "source": [
        "#@title Training the model\n",
        "history = model.fit(\n",
        "    train_padded,\n",
        "    training_label_seq,\n",
        "    epochs=epochs,\n",
        "    verbose=1,\n",
        "    validation_data=(validation_padded, validation_label_seq),\n",
        "    callbacks=model_callbacks\n",
        ")"
      ],
      "execution_count": 18,
      "outputs": [
        {
          "output_type": "stream",
          "text": [
            "Epoch 1/200\n",
            " 3/56 [>.............................] - ETA: 1s - loss: 1.7905 - accuracy: 0.1875 WARNING:tensorflow:Callback method `on_train_batch_end` is slow compared to the batch time (batch time: 0.0051s vs `on_train_batch_end` time: 0.0082s). Check your callbacks.\n",
            "56/56 [==============================] - 1s 9ms/step - loss: 1.7504 - accuracy: 0.4371 - val_loss: 1.6979 - val_accuracy: 0.4674\n",
            "INFO:tensorflow:Assets written to: bbc-text_model/2021-08-17T10:33:17.915054/checkpoints/assets\n",
            "Epoch 2/200\n",
            "56/56 [==============================] - 0s 5ms/step - loss: 1.6176 - accuracy: 0.5567 - val_loss: 1.5410 - val_accuracy: 0.5775\n",
            "INFO:tensorflow:Assets written to: bbc-text_model/2021-08-17T10:33:17.915054/checkpoints/assets\n",
            "Epoch 3/200\n",
            "56/56 [==============================] - 0s 6ms/step - loss: 1.3903 - accuracy: 0.7146 - val_loss: 1.2869 - val_accuracy: 0.7393\n",
            "INFO:tensorflow:Assets written to: bbc-text_model/2021-08-17T10:33:17.915054/checkpoints/assets\n",
            "Epoch 4/200\n",
            "56/56 [==============================] - 0s 6ms/step - loss: 1.0574 - accuracy: 0.8792 - val_loss: 0.9660 - val_accuracy: 0.8989\n",
            "INFO:tensorflow:Assets written to: bbc-text_model/2021-08-17T10:33:17.915054/checkpoints/assets\n",
            "Epoch 5/200\n",
            "56/56 [==============================] - 0s 5ms/step - loss: 0.7157 - accuracy: 0.9596 - val_loss: 0.6920 - val_accuracy: 0.9281\n",
            "INFO:tensorflow:Assets written to: bbc-text_model/2021-08-17T10:33:17.915054/checkpoints/assets\n",
            "Epoch 6/200\n",
            "56/56 [==============================] - 0s 5ms/step - loss: 0.4591 - accuracy: 0.9792 - val_loss: 0.5047 - val_accuracy: 0.9416\n",
            "INFO:tensorflow:Assets written to: bbc-text_model/2021-08-17T10:33:17.915054/checkpoints/assets\n",
            "Epoch 7/200\n",
            "56/56 [==============================] - 0s 5ms/step - loss: 0.2957 - accuracy: 0.9854 - val_loss: 0.3883 - val_accuracy: 0.9483\n",
            "INFO:tensorflow:Assets written to: bbc-text_model/2021-08-17T10:33:17.915054/checkpoints/assets\n",
            "Epoch 8/200\n",
            "56/56 [==============================] - 0s 4ms/step - loss: 0.1979 - accuracy: 0.9893 - val_loss: 0.3139 - val_accuracy: 0.9551\n",
            "\n",
            "Reached 95.0% accuracy so cancelling training!\n",
            "INFO:tensorflow:Assets written to: bbc-text_model/2021-08-17T10:33:17.915054/checkpoints/assets\n"
          ],
          "name": "stdout"
        }
      ]
    },
    {
      "cell_type": "markdown",
      "metadata": {
        "id": "2zsZ_bMWFRes"
      },
      "source": [
        "## Model evaluation"
      ]
    },
    {
      "cell_type": "code",
      "metadata": {
        "cellView": "form",
        "id": "X05LgK8ANyuw"
      },
      "source": [
        "#@title Imports\n",
        "import matplotlib.pyplot as plt\n",
        "import pandas as pd\n",
        "import seaborn as sns\n",
        "\n",
        "sns.set_theme(style=\"whitegrid\")"
      ],
      "execution_count": 19,
      "outputs": []
    },
    {
      "cell_type": "code",
      "metadata": {
        "cellView": "form",
        "id": "M98ZcyytQmU8"
      },
      "source": [
        "#@title Helper function\n",
        "def get_metrics(training_history, metric, validation=True):\n",
        "    metrics = {\n",
        "        metric: training_history.get(metric)\n",
        "    }\n",
        "    if validation:\n",
        "        val_metric = \"val_\" + metric\n",
        "        metrics[val_metric] = training_history.get(val_metric)\n",
        "    return pd.DataFrame(metrics)"
      ],
      "execution_count": 20,
      "outputs": []
    },
    {
      "cell_type": "code",
      "metadata": {
        "colab": {
          "base_uri": "https://localhost:8080/",
          "height": 485
        },
        "cellView": "form",
        "id": "0vwrQdyVODhb",
        "outputId": "8ac385f4-94bb-485c-92e8-6591a44679f1"
      },
      "source": [
        "#@title Plot training metrics\n",
        "rows, cols = 2, 1\n",
        "fig, axes = plt.subplots(rows, cols, figsize=(7*rows, 8*cols))\n",
        "\n",
        "accuracy = get_metrics(history.history, \"accuracy\")\n",
        "loss = get_metrics(history.history, \"loss\")\n",
        "sns.lineplot(data=accuracy, ax=axes[0])\n",
        "sns.lineplot(data=loss, ax=axes[1])\n",
        "plt.show()"
      ],
      "execution_count": 21,
      "outputs": [
        {
          "output_type": "display_data",
          "data": {
            "image/png": "[encoded data removed]",
            "text/plain": [
              "<Figure size 1008x576 with 2 Axes>"
            ]
          },
          "metadata": {
            "tags": []
          }
        }
      ]
    },
    {
      "cell_type": "code",
      "metadata": {
        "id": "jo2FmZbmUViC"
      },
      "source": [
        "# %load_ext tensorboard\n",
        "# %tensorboard --logdir={tensorboard_logs_dir}"
      ],
      "execution_count": 22,
      "outputs": []
    },
    {
      "cell_type": "markdown",
      "metadata": {
        "id": "fkkLVyftT7Hk"
      },
      "source": [
        "## Testing the model"
      ]
    },
    {
      "cell_type": "code",
      "metadata": {
        "id": "w7Xc-uWxXhML"
      },
      "source": [
        "reverse_word_index = dict(zip(word_index.values(), word_index.keys()))\n",
        "\n",
        "def decode_sentence(text):\n",
        "    return ' '.join([reverse_word_index.get(i, '?') for i in text])"
      ],
      "execution_count": 23,
      "outputs": []
    },
    {
      "cell_type": "code",
      "metadata": {
        "id": "OhnFA_TDXrih",
        "colab": {
          "base_uri": "https://localhost:8080/"
        },
        "outputId": "bdfd586a-4ed2-4fb2-8ead-9a879eb913d7"
      },
      "source": [
        "e = model.layers[0]\n",
        "weights = e.get_weights()[0]\n",
        "print(weights.shape) # shape: (vocab_size, embedding_dim)\n",
        "\n",
        "# Expected output\n",
        "# (1000, 16)"
      ],
      "execution_count": 24,
      "outputs": [
        {
          "output_type": "stream",
          "text": [
            "(10000, 16)\n"
          ],
          "name": "stdout"
        }
      ]
    },
    {
      "cell_type": "code",
      "metadata": {
        "id": "_POzcWWAXudL"
      },
      "source": [
        "import io\n",
        "\n",
        "out_v = io.open('vecs.tsv', 'w', encoding='utf-8')\n",
        "out_m = io.open('meta.tsv', 'w', encoding='utf-8')\n",
        "for word_num in range(1, vocab_size):\n",
        "    word = reverse_word_index[word_num]\n",
        "    embeddings = weights[word_num]\n",
        "    out_m.write(word + \"\\n\")\n",
        "    out_v.write('\\t'.join([str(x) for x in embeddings]) + \"\\n\")\n",
        "out_v.close()\n",
        "out_m.close()"
      ],
      "execution_count": 25,
      "outputs": []
    },
    {
      "cell_type": "code",
      "metadata": {
        "id": "VmqpQMZ_XyOa"
      },
      "source": [
        "# try:\n",
        "#   from google.colab import files\n",
        "# except ImportError:\n",
        "#   pass\n",
        "# else:\n",
        "#   files.download('vecs.tsv')\n",
        "#   files.download('meta.tsv')"
      ],
      "execution_count": 26,
      "outputs": []
    },
    {
      "cell_type": "markdown",
      "metadata": {
        "id": "1BBuAkowgXOf"
      },
      "source": [
        "## Saving the model to Google Drive"
      ]
    },
    {
      "cell_type": "code",
      "metadata": {
        "id": "_nZcE46JqlMY",
        "colab": {
          "base_uri": "https://localhost:8080/"
        },
        "cellView": "form",
        "outputId": "4d8e1540-dbb0-4936-e49b-6c61606bc0cf"
      },
      "source": [
        "#@title Copy the model checkpoints and logs to Google Drive\n",
        "from google.colab import drive\n",
        "\n",
        "drive.mount('/content/drive')\n",
        "google_drive_folder = \"/content/drive/MyDrive/tensorflow\"\n",
        "\n",
        "!mkdir {google_drive_folder}\n",
        "!cp -r {MODEL_LOGS_DIR} {google_drive_folder}"
      ],
      "execution_count": 27,
      "outputs": [
        {
          "output_type": "stream",
          "text": [
            "Mounted at /content/drive\n",
            "mkdir: cannot create directory ‘/content/drive/MyDrive/tensorflow’: File exists\n"
          ],
          "name": "stdout"
        }
      ]
    }
  ]
}