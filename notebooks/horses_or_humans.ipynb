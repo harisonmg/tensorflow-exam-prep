{
  "nbformat": 4,
  "nbformat_minor": 0,
  "metadata": {
    "colab": {
      "name": "horses-or-humans.ipynb",
      "provenance": [],
      "collapsed_sections": [],
      "toc_visible": true,
      "include_colab_link": true
    },
    "kernelspec": {
      "display_name": "Python 3",
      "name": "python3"
    },
    "accelerator": "GPU"
  },
  "cells": [
    {
      "cell_type": "markdown",
      "metadata": {
        "id": "view-in-github",
        "colab_type": "text"
      },
      "source": [
        "<a href=\"https://colab.research.google.com/github/harisonmg/tensorflow-exam-prep/blob/main/notebooks/horses_or_humans.ipynb\" target=\"_parent\"><img src=\"https://colab.research.google.com/assets/colab-badge.svg\" alt=\"Open In Colab\"/></a>"
      ]
    },
    {
      "cell_type": "markdown",
      "metadata": {
        "id": "pD_2v_Cik5ew"
      },
      "source": [
        "## Getting the data"
      ]
    },
    {
      "cell_type": "code",
      "metadata": {
        "id": "dn-6c02VmqiN",
        "cellView": "form"
      },
      "source": [
        "#@title Imports\n",
        "from pathlib import Path\n",
        "from zipfile import ZipFile"
      ],
      "execution_count": 1,
      "outputs": []
    },
    {
      "cell_type": "code",
      "metadata": {
        "cellView": "form",
        "id": "uVObttHdvAaC"
      },
      "source": [
        "#@title Config\n",
        "BASE_DIR = Path(\".\")\n",
        "DATASETS = {\n",
        "    \"train\": {\n",
        "        \"url\":  \"https://storage.googleapis.com/laurencemoroney-blog.appspot.com/horse-or-human.zip \",\n",
        "        \"local\": \"horse-or-human.zip\"\n",
        "    },\n",
        "    \"validation\": {\n",
        "        \"url\":  \"https://storage.googleapis.com/laurencemoroney-blog.appspot.com/validation-horse-or-human.zip\",\n",
        "        \"local\": \"validation-horse-or-human.zip\"\n",
        "    }\n",
        "}\n",
        "\n",
        "data_dir = BASE_DIR / \"horse_or_human\""
      ],
      "execution_count": 2,
      "outputs": []
    },
    {
      "cell_type": "code",
      "metadata": {
        "colab": {
          "base_uri": "https://localhost:8080/"
        },
        "id": "3sd9dQWa23aj",
        "outputId": "b141f2af-698d-497e-9f77-5fe4b720cf60"
      },
      "source": [
        "#@title Downloading and extracting the data\n",
        "for name, dataset in DATASETS.items(): \n",
        "    dataset_url = dataset[\"url\"]\n",
        "    dataset_download = dataset[\"local\"]\n",
        "    subset_dir = data_dir / name\n",
        "    \n",
        "    !wget --no-check-certificate {dataset_url} -O {dataset_download}\n",
        "\n",
        "    with ZipFile(dataset_download, \"r\") as zip_ref:\n",
        "        zip_ref.extractall(subset_dir)"
      ],
      "execution_count": 3,
      "outputs": [
        {
          "output_type": "stream",
          "text": [
            "--2021-08-17 10:56:51--  https://storage.googleapis.com/laurencemoroney-blog.appspot.com/horse-or-human.zip\n",
            "Resolving storage.googleapis.com (storage.googleapis.com)... 74.125.197.128, 74.125.142.128, 74.125.195.128, ...\n",
            "Connecting to storage.googleapis.com (storage.googleapis.com)|74.125.197.128|:443... connected.\n",
            "HTTP request sent, awaiting response... 200 OK\n",
            "Length: 149574867 (143M) [application/zip]\n",
            "Saving to: ‘horse-or-human.zip’\n",
            "\n",
            "horse-or-human.zip  100%[===================>] 142.65M   226MB/s    in 0.6s    \n",
            "\n",
            "2021-08-17 10:56:52 (226 MB/s) - ‘horse-or-human.zip’ saved [149574867/149574867]\n",
            "\n",
            "--2021-08-17 10:56:53--  https://storage.googleapis.com/laurencemoroney-blog.appspot.com/validation-horse-or-human.zip\n",
            "Resolving storage.googleapis.com (storage.googleapis.com)... 74.125.142.128, 74.125.195.128, 74.125.199.128, ...\n",
            "Connecting to storage.googleapis.com (storage.googleapis.com)|74.125.142.128|:443... connected.\n",
            "HTTP request sent, awaiting response... 200 OK\n",
            "Length: 11480187 (11M) [application/zip]\n",
            "Saving to: ‘validation-horse-or-human.zip’\n",
            "\n",
            "validation-horse-or 100%[===================>]  10.95M  --.-KB/s    in 0.1s    \n",
            "\n",
            "2021-08-17 10:56:54 (106 MB/s) - ‘validation-horse-or-human.zip’ saved [11480187/11480187]\n",
            "\n"
          ],
          "name": "stdout"
        }
      ]
    },
    {
      "cell_type": "code",
      "metadata": {
        "id": "ry7PIgkjwpL7",
        "colab": {
          "base_uri": "https://localhost:8080/"
        },
        "outputId": "ac8f3841-cfd9-40a2-a826-c8abdb919c5e"
      },
      "source": [
        "#@title List the number of images per subset\n",
        "subset_dirs = list(data_dir.glob(\"*\"))\n",
        "for subset in subset_dirs:\n",
        "    formatting = \"\\n\" + \"=\"*10 + \" \"*4\n",
        "    print(f\"{formatting} {subset.name.title()} images {formatting[::-1]}\")\n",
        "\n",
        "    for category in list(subset.glob(\"*\")):\n",
        "        num_files = len(list(category.glob(\"*\")))\n",
        "        print(f\"{category.name}: {num_files}\")\n",
        "\n",
        "print(f\"\\nSubset directories: {subset_dirs}\")\n",
        "train_dir = data_dir / \"train\"\n",
        "validation_dir = data_dir / \"validation\""
      ],
      "execution_count": 4,
      "outputs": [
        {
          "output_type": "stream",
          "text": [
            "\n",
            "==========     Train images     ==========\n",
            "\n",
            "humans: 527\n",
            "horses: 500\n",
            "\n",
            "==========     Validation images     ==========\n",
            "\n",
            "humans: 128\n",
            "horses: 128\n",
            "\n",
            "Subset directories: [PosixPath('horse_or_human/train'), PosixPath('horse_or_human/validation')]\n"
          ],
          "name": "stdout"
        }
      ]
    },
    {
      "cell_type": "markdown",
      "metadata": {
        "id": "V5DQA8Q--fQf"
      },
      "source": [
        "## Visualizing the data"
      ]
    },
    {
      "cell_type": "code",
      "metadata": {
        "cellView": "form",
        "id": "UpT0U_a1-fQh"
      },
      "source": [
        "#@title Imports\n",
        "import matplotlib.image as mpimg\n",
        "import matplotlib.pyplot as plt\n",
        "import numpy as np"
      ],
      "execution_count": 5,
      "outputs": []
    },
    {
      "cell_type": "code",
      "metadata": {
        "cellView": "form",
        "id": "VD39d0O_-fQi"
      },
      "source": [
        "#@title Helper function\n",
        "def plot_images(data_dir, category_rows=2, cols=4, img_size=4):\n",
        "    category_paths = [path for path in list(data_dir.glob(\"*\")) if path.is_dir()]\n",
        "    images = {category.name: list(category.glob(\"*\")) for category in category_paths}\n",
        "\n",
        "    rows = category_rows * len(category_paths)\n",
        "    sample_images = {}\n",
        "    for category, img_paths in images.items():\n",
        "        sample_images[category] = np.random.choice(\n",
        "            img_paths, category_rows*cols, replace=False\n",
        "        )\n",
        "\n",
        "    fig, axes = plt.subplots(rows, cols, figsize=(img_size*rows, img_size*cols))\n",
        "    for i, img_data in enumerate(sample_images.items()):\n",
        "        category, img_paths = img_data\n",
        "        for j, path in enumerate(img_paths):\n",
        "            idx = j + i*(category_rows*cols)\n",
        "            ax = axes[idx//cols, idx%cols]\n",
        "            img = mpimg.imread(path)\n",
        "            ax.imshow(img)\n",
        "            ax.set_title(f\"{path.name}: {category}\")\n",
        "            ax.axis(\"off\")\n",
        "    plt.show()"
      ],
      "execution_count": 6,
      "outputs": []
    },
    {
      "cell_type": "code",
      "metadata": {
        "id": "6dX0JSXc-fQj"
      },
      "source": [
        "#@title Plotting sample training images \n",
        "# plot_images(train_dir)"
      ],
      "execution_count": 7,
      "outputs": []
    },
    {
      "cell_type": "code",
      "metadata": {
        "id": "35kfDU2N-QDy"
      },
      "source": [
        "#@title Plotting sample validation images \n",
        "# plot_images(validation_dir)"
      ],
      "execution_count": 8,
      "outputs": []
    },
    {
      "cell_type": "markdown",
      "metadata": {
        "id": "HUQi_VtGmb8d"
      },
      "source": [
        "## Model training"
      ]
    },
    {
      "cell_type": "code",
      "metadata": {
        "colab": {
          "base_uri": "https://localhost:8080/"
        },
        "cellView": "form",
        "id": "ZaYA3HC0m83-",
        "outputId": "9c049240-5fa0-43d8-b120-625e1c752004"
      },
      "source": [
        "#@title Imports\n",
        "from datetime import datetime\n",
        "\n",
        "from keras.preprocessing.image import ImageDataGenerator\n",
        "from tensorflow.keras import callbacks, layers, models, optimizers\n",
        "import tensorflow as tf\n",
        "\n",
        "print(f\"Tensorflow: {tf.__version__}\")"
      ],
      "execution_count": 9,
      "outputs": [
        {
          "output_type": "stream",
          "text": [
            "Tensorflow: 2.5.0\n"
          ],
          "name": "stdout"
        }
      ]
    },
    {
      "cell_type": "code",
      "metadata": {
        "id": "fApn6bNcq3QS",
        "colab": {
          "base_uri": "https://localhost:8080/"
        },
        "outputId": "55a56be4-ac5c-4ce1-e6b9-58c04970a4ea"
      },
      "source": [
        "#@title Config\n",
        "BATCH_SIZE = 32\n",
        "IMAGE_SIZE = (150, 150)\n",
        "IMAGE_SHAPE = IMAGE_SIZE + (3,)\n",
        "MODEL_LOGS_DIR = data_dir / f\"{data_dir}_model\"\n",
        "\n",
        "epochs = 200\n",
        "learning_rate = 1e-4\n",
        "early_stopping_rounds = 3\n",
        "\n",
        "current_logs_dir = MODEL_LOGS_DIR / datetime.now().isoformat()\n",
        "checkpoint_filepath = current_logs_dir / \"checkpoints\"\n",
        "tensorboard_logs_dir = current_logs_dir / \"logs\"\n",
        "\n",
        "model_log_paths = [checkpoint_filepath, tensorboard_logs_dir]\n",
        "for path in model_log_paths:\n",
        "    if not path.exists():\n",
        "        path.mkdir(parents=True)\n",
        "        print(f\"Created: {path}\")"
      ],
      "execution_count": 10,
      "outputs": [
        {
          "output_type": "stream",
          "text": [
            "Created: horse_or_human/horse_or_human_model/2021-08-17T10:56:56.322100/checkpoints\n",
            "Created: horse_or_human/horse_or_human_model/2021-08-17T10:56:56.322100/logs\n"
          ],
          "name": "stdout"
        }
      ]
    },
    {
      "cell_type": "code",
      "metadata": {
        "colab": {
          "base_uri": "https://localhost:8080/"
        },
        "id": "-BQrav4anTmj",
        "outputId": "fe948779-dcc9-4dba-954c-84619c657ee1"
      },
      "source": [
        "#@title Model definition\n",
        "model = models.Sequential([\n",
        "  layers.Conv2D(16, (3,3), input_shape=IMAGE_SHAPE, activation=\"relu\"),\n",
        "  layers.MaxPool2D(2,2),\n",
        "  layers.Conv2D(32, (3,3), activation=\"relu\"),\n",
        "  layers.Conv2D(32, (3,3), activation=\"relu\"),\n",
        "  layers.MaxPool2D(2,2),\n",
        "  layers.Conv2D(64, (3,3), activation=\"relu\"),\n",
        "  layers.Conv2D(64, (3,3), activation=\"relu\"),\n",
        "  layers.MaxPool2D(2,2),\n",
        "  layers.Conv2D(128, (3,3), activation=\"relu\"),\n",
        "  layers.MaxPool2D(2,2),\n",
        "  layers.Flatten(),\n",
        "  layers.Dense(512, activation=\"relu\"),\n",
        "  layers.Dense(1, activation=\"sigmoid\")\n",
        "])\n",
        "\n",
        "model.compile(\n",
        "    optimizer=optimizers.RMSprop(learning_rate=learning_rate),\n",
        "    loss='binary_crossentropy',\n",
        "    metrics=['accuracy']\n",
        ")\n",
        "model.summary()"
      ],
      "execution_count": 11,
      "outputs": [
        {
          "output_type": "stream",
          "text": [
            "Model: \"sequential\"\n",
            "_________________________________________________________________\n",
            "Layer (type)                 Output Shape              Param #   \n",
            "=================================================================\n",
            "conv2d (Conv2D)              (None, 148, 148, 16)      448       \n",
            "_________________________________________________________________\n",
            "max_pooling2d (MaxPooling2D) (None, 74, 74, 16)        0         \n",
            "_________________________________________________________________\n",
            "conv2d_1 (Conv2D)            (None, 72, 72, 32)        4640      \n",
            "_________________________________________________________________\n",
            "conv2d_2 (Conv2D)            (None, 70, 70, 32)        9248      \n",
            "_________________________________________________________________\n",
            "max_pooling2d_1 (MaxPooling2 (None, 35, 35, 32)        0         \n",
            "_________________________________________________________________\n",
            "conv2d_3 (Conv2D)            (None, 33, 33, 64)        18496     \n",
            "_________________________________________________________________\n",
            "conv2d_4 (Conv2D)            (None, 31, 31, 64)        36928     \n",
            "_________________________________________________________________\n",
            "max_pooling2d_2 (MaxPooling2 (None, 15, 15, 64)        0         \n",
            "_________________________________________________________________\n",
            "conv2d_5 (Conv2D)            (None, 13, 13, 128)       73856     \n",
            "_________________________________________________________________\n",
            "max_pooling2d_3 (MaxPooling2 (None, 6, 6, 128)         0         \n",
            "_________________________________________________________________\n",
            "flatten (Flatten)            (None, 4608)              0         \n",
            "_________________________________________________________________\n",
            "dense (Dense)                (None, 512)               2359808   \n",
            "_________________________________________________________________\n",
            "dense_1 (Dense)              (None, 1)                 513       \n",
            "=================================================================\n",
            "Total params: 2,503,937\n",
            "Trainable params: 2,503,937\n",
            "Non-trainable params: 0\n",
            "_________________________________________________________________\n"
          ],
          "name": "stdout"
        }
      ]
    },
    {
      "cell_type": "code",
      "metadata": {
        "colab": {
          "base_uri": "https://localhost:8080/"
        },
        "id": "mlNjoJ5D61N6",
        "cellView": "form",
        "outputId": "18773c41-f2ad-47e5-aaba-d93fea1b2a31"
      },
      "source": [
        "#@title Loading the data for training\n",
        "train_datagen = ImageDataGenerator(\n",
        "    rescale=1/255,\n",
        "    # rotation_range=40,\n",
        "    # width_shift_range=0.2,\n",
        "    # height_shift_range=0.2,\n",
        "    # shear_range=0.2,\n",
        "    # zoom_range=0.2,\n",
        "    # horizontal_flip=True,\n",
        "    # fill_mode=\"nearest\"\n",
        ")\n",
        "train_generator = train_datagen.flow_from_directory(\n",
        "    train_dir,\n",
        "    target_size=IMAGE_SIZE,\n",
        "    batch_size=BATCH_SIZE,\n",
        "    class_mode=\"binary\"\n",
        ")\n",
        "\n",
        "validation_datagen = ImageDataGenerator(rescale=1/255)\n",
        "validation_generator = validation_datagen.flow_from_directory(\n",
        "    validation_dir,\n",
        "    target_size=IMAGE_SIZE,\n",
        "    batch_size=BATCH_SIZE,\n",
        "    class_mode=\"binary\"\n",
        ")\n",
        "\n",
        "# Expected Output:\n",
        "# Found 1027 images belonging to 2 classes.\n",
        "# Found 256 images belonging to 2 classes."
      ],
      "execution_count": 12,
      "outputs": [
        {
          "output_type": "stream",
          "text": [
            "Found 1027 images belonging to 2 classes.\n",
            "Found 256 images belonging to 2 classes.\n"
          ],
          "name": "stdout"
        }
      ]
    },
    {
      "cell_type": "code",
      "metadata": {
        "id": "IWEIvqdDOVAB"
      },
      "source": [
        "#@title Model callbacks\n",
        "class CustomCallback(callbacks.Callback):\n",
        "  def on_epoch_end(self, epoch, logs={}):\n",
        "    threshold = 0.95\n",
        "    if(logs.get(\"val_accuracy\") > threshold):\n",
        "      print(f\"\\nReached {threshold:.1%} accuracy so cancelling training!\")\n",
        "      self.model.stop_training = True\n",
        "\n",
        "model_callbacks = [\n",
        "             CustomCallback(),\n",
        "             callbacks.ModelCheckpoint(filepath=checkpoint_filepath),\n",
        "             callbacks.EarlyStopping(patience=early_stopping_rounds),\n",
        "             callbacks.TensorBoard(tensorboard_logs_dir)\n",
        "]"
      ],
      "execution_count": 13,
      "outputs": []
    },
    {
      "cell_type": "code",
      "metadata": {
        "colab": {
          "base_uri": "https://localhost:8080/"
        },
        "id": "KyS4n53w7DxC",
        "outputId": "7863b224-1dfb-4711-dfa9-fc1534324fec"
      },
      "source": [
        "#@title Training the model\n",
        "history = model.fit(\n",
        "    train_generator,\n",
        "    epochs=epochs,\n",
        "    verbose=1,\n",
        "    validation_data=validation_generator,\n",
        "    callbacks=model_callbacks\n",
        ")"
      ],
      "execution_count": 14,
      "outputs": [
        {
          "output_type": "stream",
          "text": [
            "Epoch 1/200\n",
            "33/33 [==============================] - 40s 240ms/step - loss: 0.6088 - accuracy: 0.6943 - val_loss: 0.3926 - val_accuracy: 0.8438\n",
            "INFO:tensorflow:Assets written to: horse_or_human/horse_or_human_model/2021-08-17T10:56:56.322100/checkpoints/assets\n",
            "Epoch 2/200\n",
            "33/33 [==============================] - 7s 209ms/step - loss: 0.3610 - accuracy: 0.8685 - val_loss: 0.6169 - val_accuracy: 0.8203\n",
            "INFO:tensorflow:Assets written to: horse_or_human/horse_or_human_model/2021-08-17T10:56:56.322100/checkpoints/assets\n",
            "Epoch 3/200\n",
            "33/33 [==============================] - 7s 209ms/step - loss: 0.2304 - accuracy: 0.9163 - val_loss: 0.7093 - val_accuracy: 0.8516\n",
            "INFO:tensorflow:Assets written to: horse_or_human/horse_or_human_model/2021-08-17T10:56:56.322100/checkpoints/assets\n",
            "Epoch 4/200\n",
            "33/33 [==============================] - 7s 205ms/step - loss: 0.1692 - accuracy: 0.9396 - val_loss: 0.7050 - val_accuracy: 0.8477\n",
            "INFO:tensorflow:Assets written to: horse_or_human/horse_or_human_model/2021-08-17T10:56:56.322100/checkpoints/assets\n"
          ],
          "name": "stdout"
        }
      ]
    },
    {
      "cell_type": "markdown",
      "metadata": {
        "id": "2zsZ_bMWFRes"
      },
      "source": [
        "## Model evaluation"
      ]
    },
    {
      "cell_type": "code",
      "metadata": {
        "cellView": "form",
        "id": "X05LgK8ANyuw"
      },
      "source": [
        "#@title Imports\n",
        "import matplotlib.pyplot as plt\n",
        "import pandas as pd\n",
        "import seaborn as sns\n",
        "\n",
        "sns.set_theme(style=\"whitegrid\")"
      ],
      "execution_count": 15,
      "outputs": []
    },
    {
      "cell_type": "code",
      "metadata": {
        "cellView": "form",
        "id": "M98ZcyytQmU8"
      },
      "source": [
        "#@title Helper function\n",
        "def get_metrics(training_history, metric, validation=True):\n",
        "    metrics = {\n",
        "        metric: training_history.get(metric)\n",
        "    }\n",
        "    if validation:\n",
        "        val_metric = \"val_\" + metric\n",
        "        metrics[val_metric] = training_history.get(val_metric)\n",
        "    return pd.DataFrame(metrics)"
      ],
      "execution_count": 16,
      "outputs": []
    },
    {
      "cell_type": "code",
      "metadata": {
        "colab": {
          "base_uri": "https://localhost:8080/",
          "height": 488
        },
        "cellView": "form",
        "id": "0vwrQdyVODhb",
        "outputId": "d6ce98f1-c37d-4404-d85e-4ce5e0540c8c"
      },
      "source": [
        "#@title Plot training metrics\n",
        "rows, cols = 2, 1\n",
        "fig, axes = plt.subplots(rows, cols, figsize=(7*rows, 8*cols))\n",
        "\n",
        "accuracy = get_metrics(history.history, \"accuracy\")\n",
        "loss = get_metrics(history.history, \"loss\")\n",
        "sns.lineplot(data=accuracy, ax=axes[0])\n",
        "sns.lineplot(data=loss, ax=axes[1])\n",
        "plt.show()"
      ],
      "execution_count": 17,
      "outputs": [
        {
          "output_type": "display_data",
          "data": {
            "image/png": "[encoded data removed]",
            "text/plain": [
              "<Figure size 1008x576 with 2 Axes>"
            ]
          },
          "metadata": {
            "tags": []
          }
        }
      ]
    },
    {
      "cell_type": "code",
      "metadata": {
        "id": "3xsnfBNYUMZm"
      },
      "source": [
        "# %load_ext tensorboard\n",
        "# %tensorboard --logdir={tensorboard_logs_dir}"
      ],
      "execution_count": 18,
      "outputs": []
    },
    {
      "cell_type": "code",
      "metadata": {
        "cellView": "form",
        "id": "WvxWV-TVUMZo"
      },
      "source": [
        "#@title Testing the model \n",
        "# # Here's a codeblock just for fun. You should be able to upload an image here \n",
        "# # and have it classified without crashing\n",
        "\n",
        "# import numpy as np\n",
        "# from google.colab import files\n",
        "# from keras.preprocessing import image\n",
        "\n",
        "# uploaded = files.upload()\n",
        "\n",
        "# for fn in uploaded.keys():\n",
        " \n",
        "#   # predicting images\n",
        "#   path = '/content/' + fn\n",
        "#   img = image.load_img(path, target_size=(# YOUR CODE HERE))\n",
        "#   x = image.img_to_array(img)\n",
        "#   x = np.expand_dims(x, axis=0)\n",
        "\n",
        "#   images = np.vstack([x])\n",
        "#   classes = model.predict(images, batch_size=10)\n",
        "#   print(classes[0])\n",
        "#   if classes[0]>0.5:\n",
        "#     print(fn + \" is a dog\")\n",
        "#   else:\n",
        "#     print(fn + \" is a cat\")"
      ],
      "execution_count": 19,
      "outputs": []
    },
    {
      "cell_type": "markdown",
      "metadata": {
        "id": "1BBuAkowgXOf"
      },
      "source": [
        "## Saving the model to Google Drive"
      ]
    },
    {
      "cell_type": "code",
      "metadata": {
        "id": "_nZcE46JqlMY",
        "colab": {
          "base_uri": "https://localhost:8080/"
        },
        "cellView": "form",
        "outputId": "c43ab78f-2ebe-441c-b532-c21a508edf7e"
      },
      "source": [
        "#@title Copy the model checkpoints and logs to Google Drive\n",
        "from google.colab import drive\n",
        "\n",
        "drive.mount('/content/drive')\n",
        "google_drive_folder = \"/content/drive/MyDrive/tensorflow\"\n",
        "\n",
        "!mkdir {google_drive_folder}\n",
        "!cp -r {MODEL_LOGS_DIR} {google_drive_folder}"
      ],
      "execution_count": 20,
      "outputs": [
        {
          "output_type": "stream",
          "text": [
            "Mounted at /content/drive\n",
            "mkdir: cannot create directory ‘/content/drive/MyDrive/tensorflow’: File exists\n"
          ],
          "name": "stdout"
        }
      ]
    }
  ]
}