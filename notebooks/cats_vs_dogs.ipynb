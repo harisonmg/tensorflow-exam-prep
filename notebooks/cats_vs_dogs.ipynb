{
  "nbformat": 4,
  "nbformat_minor": 0,
  "metadata": {
    "colab": {
      "name": "cats-vs-dogs.ipynb",
      "provenance": [],
      "collapsed_sections": [],
      "toc_visible": true,
      "include_colab_link": true
    },
    "kernelspec": {
      "display_name": "Python 3",
      "name": "python3"
    },
    "accelerator": "GPU"
  },
  "cells": [
    {
      "cell_type": "markdown",
      "metadata": {
        "id": "view-in-github",
        "colab_type": "text"
      },
      "source": [
        "<a href=\"https://colab.research.google.com/github/harisonmg/tensorflow-exam-prep/blob/main/notebooks/cats_vs_dogs.ipynb\" target=\"_parent\"><img src=\"https://colab.research.google.com/assets/colab-badge.svg\" alt=\"Open In Colab\"/></a>"
      ]
    },
    {
      "cell_type": "markdown",
      "metadata": {
        "id": "pD_2v_Cik5ew"
      },
      "source": [
        "## Getting the data"
      ]
    },
    {
      "cell_type": "code",
      "metadata": {
        "id": "dn-6c02VmqiN",
        "cellView": "form"
      },
      "source": [
        "#@title Imports\n",
        "from zipfile import ZipFile"
      ],
      "execution_count": 1,
      "outputs": []
    },
    {
      "cell_type": "code",
      "metadata": {
        "id": "OQXI_tQHpNEb",
        "cellView": "form"
      },
      "source": [
        "#@title Config\n",
        "# If the raw data URL doesn't work, visit https://www.microsoft.com/en-us/download/confirmation.aspx?id=54765\n",
        "# and right click on the 'Download Manually' link to get a new URL\n",
        "RAW_DATA = {\n",
        "    \"url\":  \"https://download.microsoft.com/download/3/E/1/3E1C3F21-ECDB-4869-8368-6DEBA77B919F/kagglecatsanddogs_3367a.zip\",\n",
        "    \"local\": \"cats_and_dogs.zip\"\n",
        "}\n",
        "FILTERED_DATA = {\n",
        "    \"url\": \"https://storage.googleapis.com/mledu-datasets/cats_and_dogs_filtered.zip\",\n",
        "    \"local\": \"cats_and_dogs_filtered.zip\"\n",
        "}"
      ],
      "execution_count": 2,
      "outputs": []
    },
    {
      "cell_type": "code",
      "metadata": {
        "colab": {
          "base_uri": "https://localhost:8080/"
        },
        "id": "3sd9dQWa23aj",
        "cellView": "form",
        "outputId": "515bdfde-7b7b-4882-98bc-7fc71828faad"
      },
      "source": [
        "#@title Downloading and extracting the data\n",
        "dataset = FILTERED_DATA #@param [\"RAW_DATA\", \"FILTERED_DATA\"] {type:\"raw\"}\n",
        "dataset_url = dataset[\"url\"]\n",
        "dataset_download = dataset[\"local\"]\n",
        "\n",
        "!wget --no-check-certificate {dataset_url} -O {dataset_download}\n",
        "\n",
        "with ZipFile(dataset_download, \"r\") as zip_ref:\n",
        "    zip_ref.extractall()"
      ],
      "execution_count": 3,
      "outputs": [
        {
          "output_type": "stream",
          "text": [
            "--2021-08-17 10:18:45--  https://storage.googleapis.com/mledu-datasets/cats_and_dogs_filtered.zip\n",
            "Resolving storage.googleapis.com (storage.googleapis.com)... 142.250.141.128, 142.251.2.128, 142.250.101.128, ...\n",
            "Connecting to storage.googleapis.com (storage.googleapis.com)|142.250.141.128|:443... connected.\n",
            "HTTP request sent, awaiting response... 200 OK\n",
            "Length: 68606236 (65M) [application/zip]\n",
            "Saving to: ‘cats_and_dogs_filtered.zip’\n",
            "\n",
            "cats_and_dogs_filte 100%[===================>]  65.43M   294MB/s    in 0.2s    \n",
            "\n",
            "2021-08-17 10:18:45 (294 MB/s) - ‘cats_and_dogs_filtered.zip’ saved [68606236/68606236]\n",
            "\n"
          ],
          "name": "stdout"
        }
      ]
    },
    {
      "cell_type": "markdown",
      "metadata": {
        "id": "RKoMurr2lx6I"
      },
      "source": [
        "## Splitting the data"
      ]
    },
    {
      "cell_type": "code",
      "metadata": {
        "id": "7juaRrgx4vW8",
        "cellView": "form"
      },
      "source": [
        "#@title Imports\n",
        "from pathlib import Path\n",
        "import shutil\n",
        "\n",
        "from sklearn.model_selection import train_test_split\n",
        "import numpy as np"
      ],
      "execution_count": 4,
      "outputs": []
    },
    {
      "cell_type": "code",
      "metadata": {
        "id": "3dDzByTCvrZT",
        "cellView": "form"
      },
      "source": [
        "#@title Config\n",
        "BASE_DIR = Path(\".\")\n",
        "data_dir = BASE_DIR / \"PetImages\"\n",
        "data_subsets_dir = BASE_DIR / Path(dataset_download).stem"
      ],
      "execution_count": 5,
      "outputs": []
    },
    {
      "cell_type": "code",
      "metadata": {
        "id": "ry7PIgkjwpL7",
        "cellView": "form"
      },
      "source": [
        "#@title List the number of images per category\n",
        "# Should be 12501 for each\n",
        "correct_num_files = 12501\n",
        "for file_path in list(data_dir.glob(\"*\")):\n",
        "    num_files = len(list(file_path.glob(\"*\")))\n",
        "    print(f\"{file_path.name} images: {num_files}\")\n",
        "    assert num_files == correct_num_files"
      ],
      "execution_count": 6,
      "outputs": []
    },
    {
      "cell_type": "code",
      "metadata": {
        "cellView": "form",
        "id": "gX8PU5ceZTus"
      },
      "source": [
        "#@title Helper functions\n",
        "def copy_files(src_paths, dst_path):\n",
        "    if dst_path.exists():\n",
        "        shutil.rmtree(dst_path)\n",
        "\n",
        "    dst_path.mkdir(parents=True)\n",
        "    for path in src_paths:\n",
        "        if path.stat().st_size > 0:\n",
        "            shutil.copy(path, dst_path)\n",
        "        else:\n",
        "            print(f\"{path.name} is zero length, so ignoring\")\n",
        "\n",
        "def train_val_test_split(\n",
        "    data_dir, subsets_dir, train_size=0.7, test_split=False, random_state=42\n",
        "):\n",
        "    category_paths = list(data_dir.glob(\"*\"))\n",
        "    subsets = [\"training\", \"validation\", \"test\"]\n",
        "    category_subsets = {}\n",
        "\n",
        "    if not test_split:\n",
        "        subsets.remove(\"test\")\n",
        "    \n",
        "    # get the subsets \n",
        "    for category_path in category_paths:\n",
        "        category = category_path.name\n",
        "        img = np.array(sorted(list(category_path.glob(\"*\"))))\n",
        "\n",
        "        # split\n",
        "        train_img, val_img = train_test_split(\n",
        "            img, train_size=train_size, random_state=random_state\n",
        "        )\n",
        "        if test_split:\n",
        "            val_img, test_img = train_test_split(\n",
        "                val_img, train_size=train_size, random_state=random_state\n",
        "            )\n",
        "            img_subsets = [train_img, val_img, test_img]\n",
        "        else:\n",
        "            img_subsets = [train_img, val_img]\n",
        "        \n",
        "        # test\n",
        "        subset_lengths = [len(subset) for subset in img_subsets]\n",
        "        assert sum(subset_lengths) == img.size\n",
        "\n",
        "        # save\n",
        "        category_subsets[category] = dict(zip(subsets, img_subsets))\n",
        "\n",
        "    # copy the subsets\n",
        "    for category, data in category_subsets.items():\n",
        "        category = category.lower().replace(\" \", \"_\")\n",
        "        formatting = \"\\n\" + \"=\"*10 + \" \"*4\n",
        "        print(f\"{formatting} Copying {category} subsets {formatting[::-1]}\")\n",
        "\n",
        "        for name, file_paths in data.items():\n",
        "            dst_path = subsets_dir / name / category\n",
        "            copy_files(file_paths, dst_path)\n",
        "            files_copied = len(list(dst_path.glob(\"*\")))\n",
        "            print(f\"{name.title()}: {files_copied}\")    \n",
        "    return category_subsets"
      ],
      "execution_count": 7,
      "outputs": []
    },
    {
      "cell_type": "code",
      "metadata": {
        "colab": {
          "base_uri": "https://localhost:8080/"
        },
        "id": "teyQGTFG1EoU",
        "cellView": "form",
        "outputId": "b168ef7d-d0b2-4b04-b423-557c29184981"
      },
      "source": [
        "#@title Create train, validation and test splits\n",
        "category_subsets = train_val_test_split(data_dir, data_subsets_dir, train_size=0.9, test_split=False)\n",
        "subset_dirs = [path for path in list(data_subsets_dir.glob(\"*\")) if path.is_dir()]\n",
        "print(f\"\\nSubset directories: {subset_dirs}\")\n",
        "\n",
        "train_dir = data_subsets_dir / \"train\"\n",
        "validation_dir = data_subsets_dir / \"validation\""
      ],
      "execution_count": 8,
      "outputs": [
        {
          "output_type": "stream",
          "text": [
            "\n",
            "Subset directories: [PosixPath('cats_and_dogs_filtered/train'), PosixPath('cats_and_dogs_filtered/validation')]\n"
          ],
          "name": "stdout"
        }
      ]
    },
    {
      "cell_type": "markdown",
      "metadata": {
        "id": "HvbTMo_bsLS6"
      },
      "source": [
        "## Visualizing the data"
      ]
    },
    {
      "cell_type": "code",
      "metadata": {
        "cellView": "form",
        "id": "6AI0VcK-4ia_"
      },
      "source": [
        "#@title Imports\n",
        "import matplotlib.image as mpimg\n",
        "import matplotlib.pyplot as plt"
      ],
      "execution_count": 9,
      "outputs": []
    },
    {
      "cell_type": "code",
      "metadata": {
        "cellView": "form",
        "id": "lVYZ25Y-sFXS"
      },
      "source": [
        "#@title Helper function\n",
        "def plot_images(data_dir, category_rows=2, cols=4, img_size=4):\n",
        "    category_paths = [path for path in list(data_dir.glob(\"*\")) if path.is_dir()]\n",
        "    images = {category.name: list(category.glob(\"*\")) for category in category_paths}\n",
        "\n",
        "    rows = category_rows * len(category_paths)\n",
        "    sample_images = {}\n",
        "    for category, img_paths in images.items():\n",
        "        sample_images[category] = np.random.choice(\n",
        "            img_paths, category_rows*cols, replace=False\n",
        "        )\n",
        "\n",
        "    fig, axes = plt.subplots(rows, cols, figsize=(img_size*rows, img_size*cols))\n",
        "    for i, img_data in enumerate(sample_images.items()):\n",
        "        category, img_paths = img_data\n",
        "        for j, path in enumerate(img_paths):\n",
        "            idx = j + i*(category_rows*cols)\n",
        "            ax = axes[idx//cols, idx%cols]\n",
        "            img = mpimg.imread(path)\n",
        "            ax.imshow(img)\n",
        "            ax.set_title(f\"{path.name}: {category}\")\n",
        "            ax.axis(\"off\")\n",
        "    plt.show()"
      ],
      "execution_count": 10,
      "outputs": []
    },
    {
      "cell_type": "code",
      "metadata": {
        "id": "8aZ4311M496p"
      },
      "source": [
        "#@title Plotting sample  training images \n",
        "# plot_images(train_dir)"
      ],
      "execution_count": 11,
      "outputs": []
    },
    {
      "cell_type": "code",
      "metadata": {
        "id": "-XzraXmB-v6F"
      },
      "source": [
        "#@title Plotting sample validation images \n",
        "# plot_images(validation_dir)"
      ],
      "execution_count": 12,
      "outputs": []
    },
    {
      "cell_type": "markdown",
      "metadata": {
        "id": "HUQi_VtGmb8d"
      },
      "source": [
        "## Model training"
      ]
    },
    {
      "cell_type": "code",
      "metadata": {
        "colab": {
          "base_uri": "https://localhost:8080/"
        },
        "cellView": "form",
        "id": "ZaYA3HC0m83-",
        "outputId": "9d582535-a8ea-4263-b61d-a79324814f68"
      },
      "source": [
        "#@title Imports\n",
        "from datetime import datetime\n",
        "\n",
        "from keras.preprocessing.image import ImageDataGenerator\n",
        "from tensorflow.keras import callbacks, layers, models, optimizers\n",
        "import tensorflow as tf\n",
        "\n",
        "print(f\"Tensorflow: {tf.__version__}\")"
      ],
      "execution_count": 13,
      "outputs": [
        {
          "output_type": "stream",
          "text": [
            "Tensorflow: 2.5.0\n"
          ],
          "name": "stdout"
        }
      ]
    },
    {
      "cell_type": "code",
      "metadata": {
        "id": "fApn6bNcq3QS",
        "colab": {
          "base_uri": "https://localhost:8080/"
        },
        "outputId": "88814133-d5cf-4b74-f92f-57c6cebc548f"
      },
      "source": [
        "#@title Config\n",
        "BATCH_SIZE = 32\n",
        "IMAGE_SIZE = (150, 150)\n",
        "IMAGE_SHAPE = IMAGE_SIZE + (3,)\n",
        "MODEL_LOGS_DIR = data_subsets_dir / f\"{data_subsets_dir}_model\"\n",
        "\n",
        "epochs = 200\n",
        "learning_rate = 1e-4\n",
        "early_stopping_rounds = 3\n",
        "\n",
        "current_logs_dir = MODEL_LOGS_DIR / datetime.now().isoformat()\n",
        "checkpoint_filepath = current_logs_dir / \"checkpoints\"\n",
        "tensorboard_logs_dir = current_logs_dir / \"logs\"\n",
        "\n",
        "model_log_paths = [checkpoint_filepath, tensorboard_logs_dir]\n",
        "for path in model_log_paths:\n",
        "    if not path.exists():\n",
        "        path.mkdir(parents=True)\n",
        "        print(f\"Created: {path}\")"
      ],
      "execution_count": 14,
      "outputs": [
        {
          "output_type": "stream",
          "text": [
            "Created: cats_and_dogs_filtered/cats_and_dogs_filtered_model/2021-08-17T10:18:49.129301/checkpoints\n",
            "Created: cats_and_dogs_filtered/cats_and_dogs_filtered_model/2021-08-17T10:18:49.129301/logs\n"
          ],
          "name": "stdout"
        }
      ]
    },
    {
      "cell_type": "code",
      "metadata": {
        "colab": {
          "base_uri": "https://localhost:8080/"
        },
        "id": "-BQrav4anTmj",
        "outputId": "a12dfbc8-6945-4711-8c48-c3b19332019c"
      },
      "source": [
        "#@title Model definition\n",
        "model = models.Sequential([\n",
        "  layers.Conv2D(32, (3,3), input_shape=IMAGE_SHAPE, activation=\"relu\"),\n",
        "  layers.MaxPool2D(2,2),\n",
        "  layers.Conv2D(64, (3,3), activation=\"relu\"),\n",
        "  layers.MaxPool2D(2,2),\n",
        "  layers.Conv2D(128, (3,3), activation=\"relu\"),\n",
        "  layers.MaxPool2D(2,2),\n",
        "  layers.Conv2D(128, (3,3), activation=\"relu\"),\n",
        "  layers.MaxPool2D(2,2),\n",
        "  layers.Flatten(),\n",
        "  layers.Dense(512, activation=\"relu\"),\n",
        "  layers.Dense(1, activation=\"sigmoid\")\n",
        "])\n",
        "\n",
        "model.compile(\n",
        "    optimizer=optimizers.RMSprop(learning_rate=learning_rate),\n",
        "    loss='binary_crossentropy',\n",
        "    metrics=['accuracy']\n",
        ")\n",
        "model.summary()"
      ],
      "execution_count": 15,
      "outputs": [
        {
          "output_type": "stream",
          "text": [
            "Model: \"sequential\"\n",
            "_________________________________________________________________\n",
            "Layer (type)                 Output Shape              Param #   \n",
            "=================================================================\n",
            "conv2d (Conv2D)              (None, 148, 148, 32)      896       \n",
            "_________________________________________________________________\n",
            "max_pooling2d (MaxPooling2D) (None, 74, 74, 32)        0         \n",
            "_________________________________________________________________\n",
            "conv2d_1 (Conv2D)            (None, 72, 72, 64)        18496     \n",
            "_________________________________________________________________\n",
            "max_pooling2d_1 (MaxPooling2 (None, 36, 36, 64)        0         \n",
            "_________________________________________________________________\n",
            "conv2d_2 (Conv2D)            (None, 34, 34, 128)       73856     \n",
            "_________________________________________________________________\n",
            "max_pooling2d_2 (MaxPooling2 (None, 17, 17, 128)       0         \n",
            "_________________________________________________________________\n",
            "conv2d_3 (Conv2D)            (None, 15, 15, 128)       147584    \n",
            "_________________________________________________________________\n",
            "max_pooling2d_3 (MaxPooling2 (None, 7, 7, 128)         0         \n",
            "_________________________________________________________________\n",
            "flatten (Flatten)            (None, 6272)              0         \n",
            "_________________________________________________________________\n",
            "dense (Dense)                (None, 512)               3211776   \n",
            "_________________________________________________________________\n",
            "dense_1 (Dense)              (None, 1)                 513       \n",
            "=================================================================\n",
            "Total params: 3,453,121\n",
            "Trainable params: 3,453,121\n",
            "Non-trainable params: 0\n",
            "_________________________________________________________________\n"
          ],
          "name": "stdout"
        }
      ]
    },
    {
      "cell_type": "code",
      "metadata": {
        "colab": {
          "base_uri": "https://localhost:8080/"
        },
        "id": "mlNjoJ5D61N6",
        "outputId": "8674e892-f916-49e3-ac98-2a2be24aa18a"
      },
      "source": [
        "#@title Loading the data for training\n",
        "train_datagen = ImageDataGenerator(\n",
        "    rescale=1/255,\n",
        "    rotation_range=40,\n",
        "    width_shift_range=0.2,\n",
        "    height_shift_range=0.2,\n",
        "    shear_range=0.2,\n",
        "    zoom_range=0.2,\n",
        "    horizontal_flip=True,\n",
        "    fill_mode=\"nearest\"\n",
        ")\n",
        "train_generator = train_datagen.flow_from_directory(\n",
        "    train_dir,\n",
        "    target_size=IMAGE_SIZE,\n",
        "    batch_size=BATCH_SIZE,\n",
        "    class_mode=\"binary\"\n",
        ")\n",
        "\n",
        "validation_datagen = ImageDataGenerator(rescale=1/255)\n",
        "validation_generator = validation_datagen.flow_from_directory(\n",
        "    validation_dir,\n",
        "    target_size=IMAGE_SIZE,\n",
        "    batch_size=BATCH_SIZE,\n",
        "    class_mode=\"binary\"\n",
        ")\n",
        "\n",
        "# Expected Output:\n",
        "# Found 22498 images belonging to 2 classes.\n",
        "# Found 2500 images belonging to 2 classes."
      ],
      "execution_count": 16,
      "outputs": [
        {
          "output_type": "stream",
          "text": [
            "Found 2000 images belonging to 2 classes.\n",
            "Found 1000 images belonging to 2 classes.\n"
          ],
          "name": "stdout"
        }
      ]
    },
    {
      "cell_type": "code",
      "metadata": {
        "id": "IWEIvqdDOVAB"
      },
      "source": [
        "#@title Model callbacks\n",
        "class CustomCallback(callbacks.Callback):\n",
        "  def on_epoch_end(self, epoch, logs={}):\n",
        "    threshold = 0.95\n",
        "    if(logs.get(\"val_accuracy\") > threshold):\n",
        "      print(f\"\\nReached {threshold:.1%} accuracy so cancelling training!\")\n",
        "      self.model.stop_training = True\n",
        "\n",
        "model_callbacks = [\n",
        "             CustomCallback(),\n",
        "             callbacks.ModelCheckpoint(filepath=checkpoint_filepath),\n",
        "             callbacks.EarlyStopping(patience=early_stopping_rounds),\n",
        "             callbacks.TensorBoard(tensorboard_logs_dir)\n",
        "]"
      ],
      "execution_count": 17,
      "outputs": []
    },
    {
      "cell_type": "code",
      "metadata": {
        "colab": {
          "base_uri": "https://localhost:8080/"
        },
        "id": "KyS4n53w7DxC",
        "outputId": "ac80784b-8c97-4bed-83e0-397fcbb027b7"
      },
      "source": [
        "#@title Training the model\n",
        "history = model.fit(\n",
        "    train_generator,\n",
        "    epochs=epochs,\n",
        "    verbose=1,\n",
        "    validation_data=validation_generator,\n",
        "    callbacks=model_callbacks\n",
        ")"
      ],
      "execution_count": 18,
      "outputs": [
        {
          "output_type": "stream",
          "text": [
            "Epoch 1/200\n",
            "63/63 [==============================] - 50s 289ms/step - loss: 0.6940 - accuracy: 0.5205 - val_loss: 0.6947 - val_accuracy: 0.5000\n",
            "INFO:tensorflow:Assets written to: cats_and_dogs_filtered/cats_and_dogs_filtered_model/2021-08-17T10:18:49.129301/checkpoints/assets\n",
            "Epoch 2/200\n",
            "63/63 [==============================] - 18s 284ms/step - loss: 0.6810 - accuracy: 0.5540 - val_loss: 0.6644 - val_accuracy: 0.5480\n",
            "INFO:tensorflow:Assets written to: cats_and_dogs_filtered/cats_and_dogs_filtered_model/2021-08-17T10:18:49.129301/checkpoints/assets\n",
            "Epoch 3/200\n",
            "63/63 [==============================] - 17s 264ms/step - loss: 0.6648 - accuracy: 0.5870 - val_loss: 0.6374 - val_accuracy: 0.6420\n",
            "INFO:tensorflow:Assets written to: cats_and_dogs_filtered/cats_and_dogs_filtered_model/2021-08-17T10:18:49.129301/checkpoints/assets\n",
            "Epoch 4/200\n",
            "63/63 [==============================] - 16s 262ms/step - loss: 0.6543 - accuracy: 0.6105 - val_loss: 0.6310 - val_accuracy: 0.6220\n",
            "INFO:tensorflow:Assets written to: cats_and_dogs_filtered/cats_and_dogs_filtered_model/2021-08-17T10:18:49.129301/checkpoints/assets\n",
            "Epoch 5/200\n",
            "63/63 [==============================] - 18s 281ms/step - loss: 0.6326 - accuracy: 0.6355 - val_loss: 0.5842 - val_accuracy: 0.7030\n",
            "INFO:tensorflow:Assets written to: cats_and_dogs_filtered/cats_and_dogs_filtered_model/2021-08-17T10:18:49.129301/checkpoints/assets\n",
            "Epoch 6/200\n",
            "63/63 [==============================] - 17s 277ms/step - loss: 0.6170 - accuracy: 0.6535 - val_loss: 0.6108 - val_accuracy: 0.6430\n",
            "INFO:tensorflow:Assets written to: cats_and_dogs_filtered/cats_and_dogs_filtered_model/2021-08-17T10:18:49.129301/checkpoints/assets\n",
            "Epoch 7/200\n",
            "63/63 [==============================] - 17s 266ms/step - loss: 0.6081 - accuracy: 0.6675 - val_loss: 0.5776 - val_accuracy: 0.6870\n",
            "INFO:tensorflow:Assets written to: cats_and_dogs_filtered/cats_and_dogs_filtered_model/2021-08-17T10:18:49.129301/checkpoints/assets\n",
            "Epoch 8/200\n",
            "63/63 [==============================] - 17s 266ms/step - loss: 0.6091 - accuracy: 0.6495 - val_loss: 0.5725 - val_accuracy: 0.6950\n",
            "INFO:tensorflow:Assets written to: cats_and_dogs_filtered/cats_and_dogs_filtered_model/2021-08-17T10:18:49.129301/checkpoints/assets\n",
            "Epoch 9/200\n",
            "63/63 [==============================] - 18s 287ms/step - loss: 0.5928 - accuracy: 0.6730 - val_loss: 0.5605 - val_accuracy: 0.7040\n",
            "INFO:tensorflow:Assets written to: cats_and_dogs_filtered/cats_and_dogs_filtered_model/2021-08-17T10:18:49.129301/checkpoints/assets\n",
            "Epoch 10/200\n",
            "63/63 [==============================] - 17s 270ms/step - loss: 0.5941 - accuracy: 0.6765 - val_loss: 0.5515 - val_accuracy: 0.7200\n",
            "INFO:tensorflow:Assets written to: cats_and_dogs_filtered/cats_and_dogs_filtered_model/2021-08-17T10:18:49.129301/checkpoints/assets\n",
            "Epoch 11/200\n",
            "63/63 [==============================] - 17s 266ms/step - loss: 0.5873 - accuracy: 0.6765 - val_loss: 0.5722 - val_accuracy: 0.6980\n",
            "INFO:tensorflow:Assets written to: cats_and_dogs_filtered/cats_and_dogs_filtered_model/2021-08-17T10:18:49.129301/checkpoints/assets\n",
            "Epoch 12/200\n",
            "63/63 [==============================] - 17s 277ms/step - loss: 0.5835 - accuracy: 0.6830 - val_loss: 0.5346 - val_accuracy: 0.7220\n",
            "INFO:tensorflow:Assets written to: cats_and_dogs_filtered/cats_and_dogs_filtered_model/2021-08-17T10:18:49.129301/checkpoints/assets\n",
            "Epoch 13/200\n",
            "63/63 [==============================] - 17s 278ms/step - loss: 0.5765 - accuracy: 0.6925 - val_loss: 0.5373 - val_accuracy: 0.7310\n",
            "INFO:tensorflow:Assets written to: cats_and_dogs_filtered/cats_and_dogs_filtered_model/2021-08-17T10:18:49.129301/checkpoints/assets\n",
            "Epoch 14/200\n",
            "63/63 [==============================] - 18s 284ms/step - loss: 0.5758 - accuracy: 0.6895 - val_loss: 0.5430 - val_accuracy: 0.7330\n",
            "INFO:tensorflow:Assets written to: cats_and_dogs_filtered/cats_and_dogs_filtered_model/2021-08-17T10:18:49.129301/checkpoints/assets\n",
            "Epoch 15/200\n",
            "63/63 [==============================] - 17s 277ms/step - loss: 0.5824 - accuracy: 0.6860 - val_loss: 0.5589 - val_accuracy: 0.6990\n",
            "INFO:tensorflow:Assets written to: cats_and_dogs_filtered/cats_and_dogs_filtered_model/2021-08-17T10:18:49.129301/checkpoints/assets\n"
          ],
          "name": "stdout"
        }
      ]
    },
    {
      "cell_type": "markdown",
      "metadata": {
        "id": "2zsZ_bMWFRes"
      },
      "source": [
        "## Model evaluation"
      ]
    },
    {
      "cell_type": "code",
      "metadata": {
        "cellView": "form",
        "id": "X05LgK8ANyuw"
      },
      "source": [
        "#@title Imports\n",
        "import matplotlib.pyplot as plt\n",
        "import pandas as pd\n",
        "import seaborn as sns\n",
        "\n",
        "sns.set_theme(style=\"whitegrid\")"
      ],
      "execution_count": 19,
      "outputs": []
    },
    {
      "cell_type": "code",
      "metadata": {
        "cellView": "form",
        "id": "M98ZcyytQmU8"
      },
      "source": [
        "#@title Helper function\n",
        "def get_metrics(training_history, metric, validation=True):\n",
        "    metrics = {\n",
        "        metric: training_history.get(metric)\n",
        "    }\n",
        "    if validation:\n",
        "        val_metric = \"val_\" + metric\n",
        "        metrics[val_metric] = training_history.get(val_metric)\n",
        "    return pd.DataFrame(metrics)"
      ],
      "execution_count": 20,
      "outputs": []
    },
    {
      "cell_type": "code",
      "metadata": {
        "colab": {
          "base_uri": "https://localhost:8080/",
          "height": 485
        },
        "cellView": "form",
        "id": "0vwrQdyVODhb",
        "outputId": "35962381-ec9c-48e8-e161-87e9342e441d"
      },
      "source": [
        "#@title Plot training metrics\n",
        "rows, cols = 2, 1\n",
        "fig, axes = plt.subplots(rows, cols, figsize=(7*rows, 8*cols))\n",
        "\n",
        "accuracy = get_metrics(history.history, \"accuracy\")\n",
        "loss = get_metrics(history.history, \"loss\")\n",
        "sns.lineplot(data=accuracy, ax=axes[0])\n",
        "sns.lineplot(data=loss, ax=axes[1])\n",
        "plt.show()"
      ],
      "execution_count": 21,
      "outputs": [
        {
          "output_type": "display_data",
          "data": {
            "image/png": "[encoded data removed]",
            "text/plain": [
              "<Figure size 1008x576 with 2 Axes>"
            ]
          },
          "metadata": {
            "tags": []
          }
        }
      ]
    },
    {
      "cell_type": "code",
      "metadata": {
        "id": "SEfIqTxOT6We"
      },
      "source": [
        "# %load_ext tensorboard\n",
        "# %tensorboard --logdir={tensorboard_logs_dir}"
      ],
      "execution_count": 22,
      "outputs": []
    },
    {
      "cell_type": "code",
      "metadata": {
        "cellView": "form",
        "id": "-A6hN1G5T6Wg"
      },
      "source": [
        "#@title Testing the model \n",
        "# # Here's a codeblock just for fun. You should be able to upload an image here \n",
        "# # and have it classified without crashing\n",
        "\n",
        "# import numpy as np\n",
        "# from google.colab import files\n",
        "# from keras.preprocessing import image\n",
        "\n",
        "# uploaded = files.upload()\n",
        "\n",
        "# for fn in uploaded.keys():\n",
        " \n",
        "#   # predicting images\n",
        "#   path = '/content/' + fn\n",
        "#   img = image.load_img(path, target_size=(# YOUR CODE HERE))\n",
        "#   x = image.img_to_array(img)\n",
        "#   x = np.expand_dims(x, axis=0)\n",
        "\n",
        "#   images = np.vstack([x])\n",
        "#   classes = model.predict(images, batch_size=10)\n",
        "#   print(classes[0])\n",
        "#   if classes[0]>0.5:\n",
        "#     print(fn + \" is a dog\")\n",
        "#   else:\n",
        "#     print(fn + \" is a cat\")"
      ],
      "execution_count": 23,
      "outputs": []
    },
    {
      "cell_type": "markdown",
      "metadata": {
        "id": "1BBuAkowgXOf"
      },
      "source": [
        "## Saving the model to Google Drive"
      ]
    },
    {
      "cell_type": "code",
      "metadata": {
        "id": "_nZcE46JqlMY",
        "colab": {
          "base_uri": "https://localhost:8080/"
        },
        "cellView": "form",
        "outputId": "8b4c6020-dca9-4b0d-ec21-abfa9aae72ee"
      },
      "source": [
        "#@title Copy the model checkpoints and logs to Google Drive\n",
        "from google.colab import drive\n",
        "\n",
        "drive.mount('/content/drive')\n",
        "google_drive_folder = \"/content/drive/MyDrive/tensorflow\"\n",
        "\n",
        "!mkdir {google_drive_folder}\n",
        "!cp -r {MODEL_LOGS_DIR} {google_drive_folder}"
      ],
      "execution_count": 24,
      "outputs": [
        {
          "output_type": "stream",
          "text": [
            "Mounted at /content/drive\n",
            "mkdir: cannot create directory ‘/content/drive/MyDrive/tensorflow’: File exists\n"
          ],
          "name": "stdout"
        }
      ]
    }
  ]
}