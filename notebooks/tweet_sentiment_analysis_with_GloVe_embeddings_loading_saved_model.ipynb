{
  "nbformat": 4,
  "nbformat_minor": 0,
  "metadata": {
    "colab": {
      "name": "tweet-sentiment-analysis-with-GloVe-embeddings-loading-saved-model.ipynb",
      "provenance": [],
      "collapsed_sections": [],
      "include_colab_link": true
    },
    "kernelspec": {
      "display_name": "Python 3",
      "name": "python3"
    }
  },
  "cells": [
    {
      "cell_type": "markdown",
      "metadata": {
        "id": "view-in-github",
        "colab_type": "text"
      },
      "source": [
        "<a href=\"https://colab.research.google.com/github/harisonmg/tensorflow-exam-prep/blob/main/notebooks/tweet_sentiment_analysis_with_GloVe_embeddings_loading_saved_model.ipynb\" target=\"_parent\"><img src=\"https://colab.research.google.com/assets/colab-badge.svg\" alt=\"Open In Colab\"/></a>"
      ]
    },
    {
      "cell_type": "markdown",
      "metadata": {
        "id": "1BBuAkowgXOf"
      },
      "source": [
        "## Downloading the model from Google Drive"
      ]
    },
    {
      "cell_type": "code",
      "metadata": {
        "id": "7juaRrgx4vW8",
        "cellView": "form"
      },
      "source": [
        "#@title Imports\n",
        "from pathlib import Path"
      ],
      "execution_count": 1,
      "outputs": []
    },
    {
      "cell_type": "code",
      "metadata": {
        "id": "3dDzByTCvrZT"
      },
      "source": [
        "#@title Config\n",
        "BASE_DIR = Path(\".\")\n",
        "GOOGLE_DRIVE_FOLDER = \"/content/drive/MyDrive/tensorflow\"\n",
        "\n",
        "model = \"training_cleaned_model\"\n",
        "model_logs_dir = Path(\"2021-08-17T13:18:08.809100\")\n",
        "drive_model_logs = Path(GOOGLE_DRIVE_FOLDER) / model / model_logs_dir"
      ],
      "execution_count": 2,
      "outputs": []
    },
    {
      "cell_type": "code",
      "metadata": {
        "id": "_nZcE46JqlMY",
        "cellView": "form",
        "colab": {
          "base_uri": "https://localhost:8080/"
        },
        "outputId": "d0257ec5-7b4f-4e0b-8e4c-10fbf231b92a"
      },
      "source": [
        "#@title Copy the model checkpoints and logs from Google Drive\n",
        "from google.colab import drive\n",
        "\n",
        "drive.mount(\"/content/drive\")\n",
        "\n",
        "!rm -rf {model_logs_dir}\n",
        "!cp -r {drive_model_logs} ."
      ],
      "execution_count": 3,
      "outputs": [
        {
          "output_type": "stream",
          "text": [
            "Drive already mounted at /content/drive; to attempt to forcibly remount, call drive.mount(\"/content/drive\", force_remount=True).\n"
          ],
          "name": "stdout"
        }
      ]
    },
    {
      "cell_type": "markdown",
      "metadata": {
        "id": "HUQi_VtGmb8d"
      },
      "source": [
        "## Loading the saved model"
      ]
    },
    {
      "cell_type": "code",
      "metadata": {
        "id": "ZaYA3HC0m83-",
        "cellView": "form",
        "colab": {
          "base_uri": "https://localhost:8080/"
        },
        "outputId": "5fd83ebf-e92c-4197-e31d-e35ad9dad20b"
      },
      "source": [
        "#@title Imports\n",
        "from tensorflow.keras import models\n",
        "import tensorflow as tf\n",
        "\n",
        "print(f\"Tensorflow: {tf.__version__}\")"
      ],
      "execution_count": 4,
      "outputs": [
        {
          "output_type": "stream",
          "text": [
            "Tensorflow: 2.6.0\n"
          ],
          "name": "stdout"
        }
      ]
    },
    {
      "cell_type": "code",
      "metadata": {
        "id": "KyS4n53w7DxC",
        "colab": {
          "base_uri": "https://localhost:8080/"
        },
        "outputId": "2f9ccee2-b4d0-4a5f-c4f6-8bf4912137a4"
      },
      "source": [
        "#@title Load the model\n",
        "model_checkpoints_dir = model_logs_dir / \"checkpoints\"\n",
        "model = models.load_model(model_checkpoints_dir)\n",
        "model.summary()"
      ],
      "execution_count": 5,
      "outputs": [
        {
          "output_type": "stream",
          "text": [
            "Model: \"sequential\"\n",
            "_________________________________________________________________\n",
            "Layer (type)                 Output Shape              Param #   \n",
            "=================================================================\n",
            "embedding (Embedding)        (None, 16, 100)           11770800  \n",
            "_________________________________________________________________\n",
            "bidirectional (Bidirectional (None, 128)               63744     \n",
            "_________________________________________________________________\n",
            "dropout (Dropout)            (None, 128)               0         \n",
            "_________________________________________________________________\n",
            "dense (Dense)                (None, 16)                2064      \n",
            "_________________________________________________________________\n",
            "dense_1 (Dense)              (None, 1)                 17        \n",
            "=================================================================\n",
            "Total params: 11,836,625\n",
            "Trainable params: 65,825\n",
            "Non-trainable params: 11,770,800\n",
            "_________________________________________________________________\n"
          ],
          "name": "stdout"
        }
      ]
    },
    {
      "cell_type": "markdown",
      "metadata": {
        "id": "2zsZ_bMWFRes"
      },
      "source": [
        "## Model evaluation"
      ]
    },
    {
      "cell_type": "code",
      "metadata": {
        "id": "u7kTSnQyT_fY"
      },
      "source": [
        "# %load_ext tensorboard\n",
        "# tensorboard_logs_dir = model_logs_dir / \"logs\"\n",
        "# %tensorboard --logdir={tensorboard_logs_dir}"
      ],
      "execution_count": 6,
      "outputs": []
    }
  ]
}