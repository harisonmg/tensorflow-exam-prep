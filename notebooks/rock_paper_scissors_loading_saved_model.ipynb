{
  "nbformat": 4,
  "nbformat_minor": 0,
  "metadata": {
    "colab": {
      "name": "rock-paper-scissors-loading-saved-model.ipynb",
      "provenance": [],
      "collapsed_sections": [],
      "include_colab_link": true
    },
    "kernelspec": {
      "display_name": "Python 3",
      "name": "python3"
    }
  },
  "cells": [
    {
      "cell_type": "markdown",
      "metadata": {
        "id": "view-in-github",
        "colab_type": "text"
      },
      "source": [
        "<a href=\"https://colab.research.google.com/github/harisonmg/tensorflow-exam-prep/blob/main/notebooks/rock_paper_scissors_loading_saved_model.ipynb\" target=\"_parent\"><img src=\"https://colab.research.google.com/assets/colab-badge.svg\" alt=\"Open In Colab\"/></a>"
      ]
    },
    {
      "cell_type": "markdown",
      "metadata": {
        "id": "1BBuAkowgXOf"
      },
      "source": [
        "## Downloading the model from Google Drive"
      ]
    },
    {
      "cell_type": "code",
      "metadata": {
        "id": "7juaRrgx4vW8",
        "cellView": "form"
      },
      "source": [
        "#@title Imports\n",
        "from pathlib import Path"
      ],
      "execution_count": 1,
      "outputs": []
    },
    {
      "cell_type": "code",
      "metadata": {
        "id": "3dDzByTCvrZT"
      },
      "source": [
        "#@title Config\n",
        "BASE_DIR = Path(\".\")\n",
        "GOOGLE_DRIVE_FOLDER = \"/content/drive/MyDrive/tensorflow\"\n",
        "\n",
        "model = \"rock_paper_scissors_model\"\n",
        "model_logs_dir = Path(\"2021-08-17T09:35:13.961992\")\n",
        "drive_model_logs = Path(GOOGLE_DRIVE_FOLDER) / model / model_logs_dir"
      ],
      "execution_count": 2,
      "outputs": []
    },
    {
      "cell_type": "code",
      "metadata": {
        "id": "_nZcE46JqlMY",
        "colab": {
          "base_uri": "https://localhost:8080/"
        },
        "cellView": "form",
        "outputId": "75b95a06-151b-4355-8160-96394a7b9274"
      },
      "source": [
        "#@title Copy the model checkpoints and logs from Google Drive\n",
        "from google.colab import drive\n",
        "\n",
        "drive.mount(\"/content/drive\")\n",
        "\n",
        "!rm -rf {model_logs_dir}\n",
        "!cp -r {drive_model_logs} ."
      ],
      "execution_count": 3,
      "outputs": [
        {
          "output_type": "stream",
          "text": [
            "Drive already mounted at /content/drive; to attempt to forcibly remount, call drive.mount(\"/content/drive\", force_remount=True).\n"
          ],
          "name": "stdout"
        }
      ]
    },
    {
      "cell_type": "markdown",
      "metadata": {
        "id": "HUQi_VtGmb8d"
      },
      "source": [
        "## Loading the saved model"
      ]
    },
    {
      "cell_type": "code",
      "metadata": {
        "colab": {
          "base_uri": "https://localhost:8080/"
        },
        "id": "ZaYA3HC0m83-",
        "cellView": "form",
        "outputId": "70963867-f29c-496b-9b4c-eaeffc7d9303"
      },
      "source": [
        "#@title Imports\n",
        "from tensorflow.keras import models\n",
        "import tensorflow as tf\n",
        "\n",
        "print(f\"Tensorflow: {tf.__version__}\")"
      ],
      "execution_count": 4,
      "outputs": [
        {
          "output_type": "stream",
          "text": [
            "Tensorflow: 2.6.0\n"
          ],
          "name": "stdout"
        }
      ]
    },
    {
      "cell_type": "code",
      "metadata": {
        "colab": {
          "base_uri": "https://localhost:8080/"
        },
        "id": "KyS4n53w7DxC",
        "outputId": "f61725fd-2bae-4680-c9d1-85036ff0a5dc"
      },
      "source": [
        "#@title Load the model\n",
        "model_checkpoints_dir = model_logs_dir / \"checkpoints\"\n",
        "model = models.load_model(model_checkpoints_dir)\n",
        "model.summary()"
      ],
      "execution_count": 5,
      "outputs": [
        {
          "output_type": "stream",
          "text": [
            "Model: \"sequential\"\n",
            "_________________________________________________________________\n",
            "Layer (type)                 Output Shape              Param #   \n",
            "=================================================================\n",
            "conv2d (Conv2D)              (None, 148, 148, 16)      448       \n",
            "_________________________________________________________________\n",
            "max_pooling2d (MaxPooling2D) (None, 74, 74, 16)        0         \n",
            "_________________________________________________________________\n",
            "conv2d_1 (Conv2D)            (None, 72, 72, 32)        4640      \n",
            "_________________________________________________________________\n",
            "max_pooling2d_1 (MaxPooling2 (None, 36, 36, 32)        0         \n",
            "_________________________________________________________________\n",
            "conv2d_2 (Conv2D)            (None, 34, 34, 64)        18496     \n",
            "_________________________________________________________________\n",
            "max_pooling2d_2 (MaxPooling2 (None, 17, 17, 64)        0         \n",
            "_________________________________________________________________\n",
            "conv2d_3 (Conv2D)            (None, 15, 15, 128)       73856     \n",
            "_________________________________________________________________\n",
            "max_pooling2d_3 (MaxPooling2 (None, 7, 7, 128)         0         \n",
            "_________________________________________________________________\n",
            "conv2d_4 (Conv2D)            (None, 7, 7, 512)         66048     \n",
            "_________________________________________________________________\n",
            "flatten (Flatten)            (None, 25088)             0         \n",
            "_________________________________________________________________\n",
            "dense (Dense)                (None, 3)                 75267     \n",
            "=================================================================\n",
            "Total params: 238,755\n",
            "Trainable params: 238,755\n",
            "Non-trainable params: 0\n",
            "_________________________________________________________________\n"
          ],
          "name": "stdout"
        }
      ]
    },
    {
      "cell_type": "markdown",
      "metadata": {
        "id": "2zsZ_bMWFRes"
      },
      "source": [
        "## Model evaluation"
      ]
    },
    {
      "cell_type": "code",
      "metadata": {
        "id": "u7kTSnQyT_fY"
      },
      "source": [
        "# %load_ext tensorboard\n",
        "# tensorboard_logs_dir = model_logs_dir / \"logs\"\n",
        "# %tensorboard --logdir={tensorboard_logs_dir}"
      ],
      "execution_count": 6,
      "outputs": []
    },
    {
      "cell_type": "code",
      "metadata": {
        "id": "oEYxV05MT_fZ",
        "cellView": "form"
      },
      "source": [
        "#@title Testing the model \n",
        "# Here's a codeblock just for fun. You should be able to upload an image here \n",
        "# and have it classified without crashing\n",
        "\n",
        "# import numpy as np\n",
        "# from google.colab import files\n",
        "# from keras.preprocessing import image\n",
        "\n",
        "# uploaded = files.upload()\n",
        "\n",
        "# for fn in uploaded.keys():\n",
        " \n",
        "#   # predicting images\n",
        "#   path = '/content/' + fn\n",
        "#   img = image.load_img(path, target_size=(150, 150))\n",
        "#   x = image.img_to_array(img)\n",
        "#   x = np.expand_dims(x, axis=0)\n",
        "\n",
        "#   images = np.vstack([x])\n",
        "#   classes = model.predict(images, batch_size=10)\n",
        "#   print(classes[0])\n",
        "#   if classes[0]>0.5:\n",
        "#     print(fn + \" is a dog\")\n",
        "#   else:\n",
        "#     print(fn + \" is a cat\")"
      ],
      "execution_count": 7,
      "outputs": []
    }
  ]
}