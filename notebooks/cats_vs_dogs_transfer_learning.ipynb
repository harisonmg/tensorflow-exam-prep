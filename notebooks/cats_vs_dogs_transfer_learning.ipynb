{
  "nbformat": 4,
  "nbformat_minor": 0,
  "metadata": {
    "colab": {
      "name": "cats-vs-dogs-transfer-learning.ipynb",
      "provenance": [],
      "collapsed_sections": [],
      "toc_visible": true,
      "include_colab_link": true
    },
    "kernelspec": {
      "display_name": "Python 3",
      "name": "python3"
    },
    "accelerator": "GPU"
  },
  "cells": [
    {
      "cell_type": "markdown",
      "metadata": {
        "id": "view-in-github",
        "colab_type": "text"
      },
      "source": [
        "<a href=\"https://colab.research.google.com/github/harisonmg/tensorflow-exam-prep/blob/main/notebooks/cats_vs_dogs_transfer_learning.ipynb\" target=\"_parent\"><img src=\"https://colab.research.google.com/assets/colab-badge.svg\" alt=\"Open In Colab\"/></a>"
      ]
    },
    {
      "cell_type": "markdown",
      "metadata": {
        "id": "pD_2v_Cik5ew"
      },
      "source": [
        "## Getting the data"
      ]
    },
    {
      "cell_type": "code",
      "metadata": {
        "id": "dn-6c02VmqiN",
        "cellView": "form"
      },
      "source": [
        "#@title Imports\n",
        "from zipfile import ZipFile"
      ],
      "execution_count": 1,
      "outputs": []
    },
    {
      "cell_type": "code",
      "metadata": {
        "id": "OQXI_tQHpNEb",
        "cellView": "form"
      },
      "source": [
        "#@title Config\n",
        "# If the raw data URL doesn't work, visit https://www.microsoft.com/en-us/download/confirmation.aspx?id=54765\n",
        "# and right click on the 'Download Manually' link to get a new URL\n",
        "RAW_DATA = {\n",
        "    \"url\":  \"https://download.microsoft.com/download/3/E/1/3E1C3F21-ECDB-4869-8368-6DEBA77B919F/kagglecatsanddogs_3367a.zip\",\n",
        "    \"local\": \"cats_and_dogs.zip\"\n",
        "}\n",
        "FILTERED_DATA = {\n",
        "    \"url\": \"https://storage.googleapis.com/mledu-datasets/cats_and_dogs_filtered.zip\",\n",
        "    \"local\": \"cats_and_dogs_filtered.zip\"\n",
        "}"
      ],
      "execution_count": 2,
      "outputs": []
    },
    {
      "cell_type": "code",
      "metadata": {
        "colab": {
          "base_uri": "https://localhost:8080/"
        },
        "id": "3sd9dQWa23aj",
        "cellView": "form",
        "outputId": "67462a4f-0f23-4fae-c8ac-9d292e257832"
      },
      "source": [
        "#@title Downloading and extracting the data\n",
        "dataset = FILTERED_DATA #@param [\"RAW_DATA\", \"FILTERED_DATA\"] {type:\"raw\"}\n",
        "dataset_url = dataset[\"url\"]\n",
        "dataset_download = dataset[\"local\"]\n",
        "\n",
        "!wget --no-check-certificate {dataset_url} -O {dataset_download}\n",
        "\n",
        "with ZipFile(dataset_download, \"r\") as zip_ref:\n",
        "    zip_ref.extractall()"
      ],
      "execution_count": 3,
      "outputs": [
        {
          "output_type": "stream",
          "text": [
            "--2021-08-17 09:46:49--  https://storage.googleapis.com/mledu-datasets/cats_and_dogs_filtered.zip\n",
            "Resolving storage.googleapis.com (storage.googleapis.com)... 142.250.101.128, 142.250.141.128, 142.251.2.128, ...\n",
            "Connecting to storage.googleapis.com (storage.googleapis.com)|142.250.101.128|:443... connected.\n",
            "HTTP request sent, awaiting response... 200 OK\n",
            "Length: 68606236 (65M) [application/zip]\n",
            "Saving to: ‘cats_and_dogs_filtered.zip’\n",
            "\n",
            "cats_and_dogs_filte 100%[===================>]  65.43M   104MB/s    in 0.6s    \n",
            "\n",
            "2021-08-17 09:46:49 (104 MB/s) - ‘cats_and_dogs_filtered.zip’ saved [68606236/68606236]\n",
            "\n"
          ],
          "name": "stdout"
        }
      ]
    },
    {
      "cell_type": "markdown",
      "metadata": {
        "id": "RKoMurr2lx6I"
      },
      "source": [
        "## Splitting the data"
      ]
    },
    {
      "cell_type": "code",
      "metadata": {
        "cellView": "form",
        "id": "7juaRrgx4vW8"
      },
      "source": [
        "#@title Imports\n",
        "from pathlib import Path\n",
        "import shutil\n",
        "\n",
        "from sklearn.model_selection import train_test_split\n",
        "import numpy as np"
      ],
      "execution_count": 4,
      "outputs": []
    },
    {
      "cell_type": "code",
      "metadata": {
        "id": "3dDzByTCvrZT",
        "cellView": "form"
      },
      "source": [
        "#@title Config\n",
        "BASE_DIR = Path(\".\")\n",
        "data_dir = BASE_DIR / \"PetImages\"\n",
        "data_subsets_dir = BASE_DIR / Path(dataset_download).stem"
      ],
      "execution_count": 5,
      "outputs": []
    },
    {
      "cell_type": "code",
      "metadata": {
        "id": "ry7PIgkjwpL7",
        "cellView": "form"
      },
      "source": [
        "#@title List the number of images per category\n",
        "# Should be 12501 for each\n",
        "correct_num_files = 12501\n",
        "for file_path in list(data_dir.glob(\"*\")):\n",
        "    num_files = len(list(file_path.glob(\"*\")))\n",
        "    print(f\"{file_path.name} images: {num_files}\")\n",
        "    assert num_files == correct_num_files"
      ],
      "execution_count": 6,
      "outputs": []
    },
    {
      "cell_type": "code",
      "metadata": {
        "cellView": "form",
        "id": "gX8PU5ceZTus"
      },
      "source": [
        "#@title Helper functions\n",
        "def copy_files(src_paths, dst_path):\n",
        "    if dst_path.exists():\n",
        "        shutil.rmtree(dst_path)\n",
        "\n",
        "    dst_path.mkdir(parents=True)\n",
        "    for path in src_paths:\n",
        "        if path.stat().st_size > 0:\n",
        "            shutil.copy(path, dst_path)\n",
        "        else:\n",
        "            print(f\"{path.name} is zero length, so ignoring\")\n",
        "\n",
        "def train_val_test_split(\n",
        "    data_dir, subsets_dir, train_size=0.7, test_split=False, random_state=42\n",
        "):\n",
        "    category_paths = list(data_dir.glob(\"*\"))\n",
        "    subsets = [\"training\", \"validation\", \"test\"]\n",
        "    category_subsets = {}\n",
        "\n",
        "    if not test_split:\n",
        "        subsets.remove(\"test\")\n",
        "    \n",
        "    # get the subsets \n",
        "    for category_path in category_paths:\n",
        "        category = category_path.name\n",
        "        img = np.array(sorted(list(category_path.glob(\"*\"))))\n",
        "\n",
        "        # split\n",
        "        train_img, val_img = train_test_split(\n",
        "            img, train_size=train_size, random_state=random_state\n",
        "        )\n",
        "        if test_split:\n",
        "            val_img, test_img = train_test_split(\n",
        "                val_img, train_size=train_size, random_state=random_state\n",
        "            )\n",
        "            img_subsets = [train_img, val_img, test_img]\n",
        "        else:\n",
        "            img_subsets = [train_img, val_img]\n",
        "        \n",
        "        # test\n",
        "        subset_lengths = [len(subset) for subset in img_subsets]\n",
        "        assert sum(subset_lengths) == img.size\n",
        "\n",
        "        # save\n",
        "        category_subsets[category] = dict(zip(subsets, img_subsets))\n",
        "\n",
        "    # copy the subsets\n",
        "    for category, data in category_subsets.items():\n",
        "        category = category.lower().replace(\" \", \"_\")\n",
        "        formatting = \"\\n\" + \"=\"*10 + \" \"*4\n",
        "        print(f\"{formatting} Copying {category} subsets {formatting[::-1]}\")\n",
        "\n",
        "        for name, file_paths in data.items():\n",
        "            dst_path = subsets_dir / name / category\n",
        "            copy_files(file_paths, dst_path)\n",
        "            files_copied = len(list(dst_path.glob(\"*\")))\n",
        "            print(f\"{name.title()}: {files_copied}\")    \n",
        "    return category_subsets"
      ],
      "execution_count": 7,
      "outputs": []
    },
    {
      "cell_type": "code",
      "metadata": {
        "colab": {
          "base_uri": "https://localhost:8080/"
        },
        "id": "teyQGTFG1EoU",
        "cellView": "form",
        "outputId": "e450b7cc-24f8-4581-dfc5-a78333d68c35"
      },
      "source": [
        "#@title Create train, validation and test splits\n",
        "category_subsets = train_val_test_split(data_dir, data_subsets_dir, train_size=0.9, test_split=False)\n",
        "subset_dirs = [path for path in list(data_subsets_dir.glob(\"*\")) if path.is_dir()]\n",
        "print(f\"\\nSubset directories: {subset_dirs}\")\n",
        "\n",
        "train_dir = data_subsets_dir / \"train\"\n",
        "validation_dir = data_subsets_dir / \"validation\""
      ],
      "execution_count": 8,
      "outputs": [
        {
          "output_type": "stream",
          "text": [
            "\n",
            "Subset directories: [PosixPath('cats_and_dogs_filtered/train'), PosixPath('cats_and_dogs_filtered/validation')]\n"
          ],
          "name": "stdout"
        }
      ]
    },
    {
      "cell_type": "markdown",
      "metadata": {
        "id": "HvbTMo_bsLS6"
      },
      "source": [
        "## Visualizing the data"
      ]
    },
    {
      "cell_type": "code",
      "metadata": {
        "id": "6AI0VcK-4ia_",
        "cellView": "form"
      },
      "source": [
        "#@title Imports\n",
        "import matplotlib.image as mpimg\n",
        "import matplotlib.pyplot as plt"
      ],
      "execution_count": 9,
      "outputs": []
    },
    {
      "cell_type": "code",
      "metadata": {
        "cellView": "form",
        "id": "lVYZ25Y-sFXS"
      },
      "source": [
        "#@title Helper function\n",
        "def plot_images(data_dir, category_rows=2, cols=4, img_size=4):\n",
        "    category_paths = [path for path in list(data_dir.glob(\"*\")) if path.is_dir()]\n",
        "    images = {category.name: list(category.glob(\"*\")) for category in category_paths}\n",
        "\n",
        "    rows = category_rows * len(category_paths)\n",
        "    sample_images = {}\n",
        "    for category, img_paths in images.items():\n",
        "        sample_images[category] = np.random.choice(\n",
        "            img_paths, category_rows*cols, replace=False\n",
        "        )\n",
        "\n",
        "    fig, axes = plt.subplots(rows, cols, figsize=(img_size*rows, img_size*cols))\n",
        "    for i, img_data in enumerate(sample_images.items()):\n",
        "        category, img_paths = img_data\n",
        "        for j, path in enumerate(img_paths):\n",
        "            idx = j + i*(category_rows*cols)\n",
        "            ax = axes[idx//cols, idx%cols]\n",
        "            img = mpimg.imread(path)\n",
        "            ax.imshow(img)\n",
        "            ax.set_title(f\"{path.name}: {category}\")\n",
        "            ax.axis(\"off\")\n",
        "    plt.show()"
      ],
      "execution_count": 10,
      "outputs": []
    },
    {
      "cell_type": "code",
      "metadata": {
        "id": "8aZ4311M496p"
      },
      "source": [
        "#@title Plotting sample  training images \n",
        "# plot_images(train_dir)"
      ],
      "execution_count": 11,
      "outputs": []
    },
    {
      "cell_type": "code",
      "metadata": {
        "id": "-XzraXmB-v6F"
      },
      "source": [
        "#@title Plotting sample validation images \n",
        "# plot_images(validation_dir)"
      ],
      "execution_count": 12,
      "outputs": []
    },
    {
      "cell_type": "markdown",
      "metadata": {
        "id": "HUQi_VtGmb8d"
      },
      "source": [
        "## Model training"
      ]
    },
    {
      "cell_type": "code",
      "metadata": {
        "colab": {
          "base_uri": "https://localhost:8080/"
        },
        "id": "ZaYA3HC0m83-",
        "cellView": "form",
        "outputId": "b6ece005-e9c7-4a9b-e5bd-d4592043e610"
      },
      "source": [
        "#@title Imports\n",
        "from datetime import datetime\n",
        "\n",
        "from keras.preprocessing.image import ImageDataGenerator\n",
        "from tensorflow.keras import callbacks, layers, models, optimizers\n",
        "from tensorflow.keras.applications.inception_v3 import InceptionV3\n",
        "import tensorflow as tf\n",
        "\n",
        "print(f\"Tensorflow: {tf.__version__}\")"
      ],
      "execution_count": 13,
      "outputs": [
        {
          "output_type": "stream",
          "text": [
            "Tensorflow: 2.5.0\n"
          ],
          "name": "stdout"
        }
      ]
    },
    {
      "cell_type": "code",
      "metadata": {
        "id": "fApn6bNcq3QS",
        "colab": {
          "base_uri": "https://localhost:8080/"
        },
        "outputId": "97c50944-123f-4902-ebce-b5a0af309619"
      },
      "source": [
        "#@title Config\n",
        "BATCH_SIZE = 32\n",
        "IMAGE_SIZE = (150, 150)\n",
        "IMAGE_SHAPE = IMAGE_SIZE + (3,)\n",
        "MODEL_LOGS_DIR = data_subsets_dir / f\"{data_subsets_dir}_model\"\n",
        "\n",
        "epochs = 200\n",
        "learning_rate = 1e-4\n",
        "early_stopping_rounds = 5\n",
        "\n",
        "current_logs_dir = MODEL_LOGS_DIR / datetime.now().isoformat()\n",
        "checkpoint_filepath = current_logs_dir / \"checkpoints\"\n",
        "tensorboard_logs_dir = current_logs_dir / \"logs\"\n",
        "\n",
        "model_log_paths = [checkpoint_filepath, tensorboard_logs_dir]\n",
        "for path in model_log_paths:\n",
        "    if not path.exists():\n",
        "        path.mkdir(parents=True)\n",
        "        print(f\"Created: {path}\")"
      ],
      "execution_count": 14,
      "outputs": [
        {
          "output_type": "stream",
          "text": [
            "Created: cats_and_dogs_filtered/cats_and_dogs_filtered_model/2021-08-17T09:46:53.052445/checkpoints\n",
            "Created: cats_and_dogs_filtered/cats_and_dogs_filtered_model/2021-08-17T09:46:53.052445/logs\n"
          ],
          "name": "stdout"
        }
      ]
    },
    {
      "cell_type": "code",
      "metadata": {
        "colab": {
          "base_uri": "https://localhost:8080/"
        },
        "id": "omRytkKPf0o8",
        "cellView": "form",
        "outputId": "6477c678-5001-448b-b9e2-5ec8ac15a003"
      },
      "source": [
        "#@title Downloading pre-trained model weights\n",
        "model_weights_url = \"https://storage.googleapis.com/mledu-datasets/inception_v3_weights_tf_dim_ordering_tf_kernels_notop.h5\"\n",
        "model_weights_download = \"inception_v3_weights_tf_dim_ordering_tf_kernels_notop.h5\"\n",
        "\n",
        "!wget --no-check-certificate {model_weights_url} -O {model_weights_download}"
      ],
      "execution_count": 15,
      "outputs": [
        {
          "output_type": "stream",
          "text": [
            "--2021-08-17 09:46:53--  https://storage.googleapis.com/mledu-datasets/inception_v3_weights_tf_dim_ordering_tf_kernels_notop.h5\n",
            "Resolving storage.googleapis.com (storage.googleapis.com)... 142.251.2.128, 142.250.141.128, 2607:f8b0:4023:c0d::80, ...\n",
            "Connecting to storage.googleapis.com (storage.googleapis.com)|142.251.2.128|:443... connected.\n",
            "HTTP request sent, awaiting response... 200 OK\n",
            "Length: 87910968 (84M) [application/x-hdf]\n",
            "Saving to: ‘inception_v3_weights_tf_dim_ordering_tf_kernels_notop.h5’\n",
            "\n",
            "inception_v3_weight 100%[===================>]  83.84M   224MB/s    in 0.4s    \n",
            "\n",
            "2021-08-17 09:46:53 (224 MB/s) - ‘inception_v3_weights_tf_dim_ordering_tf_kernels_notop.h5’ saved [87910968/87910968]\n",
            "\n"
          ],
          "name": "stdout"
        }
      ]
    },
    {
      "cell_type": "code",
      "metadata": {
        "colab": {
          "base_uri": "https://localhost:8080/"
        },
        "cellView": "form",
        "id": "x9edg122iCEt",
        "outputId": "96b6e3d5-26a4-45f6-90bd-cd6638e2d06f"
      },
      "source": [
        "#@title Loading the pre-trained model\n",
        "pre_trained_model = InceptionV3(\n",
        "    input_shape=IMAGE_SHAPE, include_top=False, weights=None\n",
        ")\n",
        "pre_trained_model.load_weights(model_weights_download)\n",
        "\n",
        "for layer in pre_trained_model.layers:\n",
        "    layer.trainable = False\n",
        "\n",
        "# [layer.name for layer in pre_trained_model.layers if layer.name.__contains__(\"mixed\")]\n",
        "last_layer_name = \"mixed8\" #@param [\"mixed0\", \"mixed1\", \"mixed2\", \"mixed3\", \"mixed4\", \"mixed5\", 'mixed6', \"mixed7\", \"mixed8\", \"mixed9_0\", \"mixed9\", \"mixed9_1\", \"mixed10\"]\n",
        "last_layer = pre_trained_model.get_layer(last_layer_name)\n",
        "last_output = last_layer.output\n",
        "\n",
        "show_model_summary = False #@param {type:\"boolean\"}\n",
        "if show_model_summary:\n",
        "    pre_trained_model.summary()\n",
        "else:\n",
        "    print(f\"Model: {pre_trained_model.name}\")\n",
        "    print(f\"Number of layers: {len(pre_trained_model.layers)}\")\n",
        "    print(f\"Last layer output shape: {last_layer.output_shape}\")"
      ],
      "execution_count": 16,
      "outputs": [
        {
          "output_type": "stream",
          "text": [
            "Model: inception_v3\n",
            "Number of layers: 311\n",
            "Last layer output shape: (None, 3, 3, 1280)\n"
          ],
          "name": "stdout"
        }
      ]
    },
    {
      "cell_type": "code",
      "metadata": {
        "id": "fYWJbx5_qc06",
        "cellView": "form"
      },
      "source": [
        "#@title Model definition\n",
        "x = layers.Flatten()(last_output)\n",
        "x = layers.Dense(1024, activation='relu')(x)\n",
        "x = layers.Dropout(0.2)(x)                  \n",
        "x = layers.Dense  (1, activation='sigmoid')(x)           \n",
        "\n",
        "model = models.Model(pre_trained_model.input, x) \n",
        "model.compile(\n",
        "    optimizer=optimizers.RMSprop(learning_rate=learning_rate),\n",
        "    loss='binary_crossentropy',\n",
        "    metrics=['accuracy']\n",
        ")"
      ],
      "execution_count": 17,
      "outputs": []
    },
    {
      "cell_type": "code",
      "metadata": {
        "colab": {
          "base_uri": "https://localhost:8080/"
        },
        "id": "mlNjoJ5D61N6",
        "cellView": "form",
        "outputId": "2c08d201-51da-4a97-b8ab-8efd4eed100d"
      },
      "source": [
        "#@title Loading the data for training\n",
        "train_datagen = ImageDataGenerator(\n",
        "    rescale=1/255,\n",
        "    rotation_range=40,\n",
        "    width_shift_range=0.2,\n",
        "    height_shift_range=0.2,\n",
        "    shear_range=0.2,\n",
        "    zoom_range=0.2,\n",
        "    horizontal_flip=True,\n",
        "    fill_mode=\"nearest\"\n",
        ")\n",
        "train_generator = train_datagen.flow_from_directory(\n",
        "    train_dir,\n",
        "    target_size=IMAGE_SIZE,\n",
        "    batch_size=BATCH_SIZE,\n",
        "    class_mode=\"binary\"\n",
        ")\n",
        "\n",
        "validation_datagen = ImageDataGenerator(rescale=1/255)\n",
        "validation_generator = validation_datagen.flow_from_directory(\n",
        "    validation_dir,\n",
        "    target_size=IMAGE_SIZE,\n",
        "    batch_size=BATCH_SIZE,\n",
        "    class_mode=\"binary\"\n",
        ")\n",
        "\n",
        "# Expected Output:\n",
        "# Found 22498 images belonging to 2 classes.\n",
        "# Found 2500 images belonging to 2 classes."
      ],
      "execution_count": 18,
      "outputs": [
        {
          "output_type": "stream",
          "text": [
            "Found 2000 images belonging to 2 classes.\n",
            "Found 1000 images belonging to 2 classes.\n"
          ],
          "name": "stdout"
        }
      ]
    },
    {
      "cell_type": "code",
      "metadata": {
        "id": "IWEIvqdDOVAB"
      },
      "source": [
        "#@title Model callbacks\n",
        "class CustomCallback(callbacks.Callback):\n",
        "  def on_epoch_end(self, epoch, logs={}):\n",
        "    threshold = 0.98\n",
        "    if(logs.get(\"val_accuracy\") > threshold):\n",
        "      print(f\"\\nReached {threshold:.1%} accuracy so cancelling training!\")\n",
        "      self.model.stop_training = True\n",
        "\n",
        "model_callbacks = [\n",
        "             CustomCallback(),\n",
        "             callbacks.ModelCheckpoint(filepath=checkpoint_filepath),\n",
        "             callbacks.EarlyStopping(patience=early_stopping_rounds),\n",
        "             callbacks.TensorBoard(tensorboard_logs_dir)\n",
        "]"
      ],
      "execution_count": 19,
      "outputs": []
    },
    {
      "cell_type": "code",
      "metadata": {
        "colab": {
          "base_uri": "https://localhost:8080/"
        },
        "id": "KyS4n53w7DxC",
        "cellView": "form",
        "outputId": "2cafa863-f545-44f0-aac6-bb2bbdfc1a2b"
      },
      "source": [
        "#@title Training the model\n",
        "history = model.fit(\n",
        "    train_generator,\n",
        "    epochs=epochs,\n",
        "    verbose=1,\n",
        "    validation_data=validation_generator,\n",
        "    callbacks=model_callbacks\n",
        ")"
      ],
      "execution_count": 20,
      "outputs": [
        {
          "output_type": "stream",
          "text": [
            "Epoch 1/200\n",
            "63/63 [==============================] - 53s 325ms/step - loss: 0.4315 - accuracy: 0.8455 - val_loss: 0.0962 - val_accuracy: 0.9620\n",
            "INFO:tensorflow:Assets written to: cats_and_dogs_filtered/cats_and_dogs_filtered_model/2021-08-17T09:46:53.052445/checkpoints/assets\n",
            "Epoch 2/200\n",
            "63/63 [==============================] - 19s 306ms/step - loss: 0.2312 - accuracy: 0.9065 - val_loss: 0.1108 - val_accuracy: 0.9610\n",
            "INFO:tensorflow:Assets written to: cats_and_dogs_filtered/cats_and_dogs_filtered_model/2021-08-17T09:46:53.052445/checkpoints/assets\n",
            "Epoch 3/200\n",
            "63/63 [==============================] - 20s 315ms/step - loss: 0.2151 - accuracy: 0.9100 - val_loss: 0.0906 - val_accuracy: 0.9580\n",
            "INFO:tensorflow:Assets written to: cats_and_dogs_filtered/cats_and_dogs_filtered_model/2021-08-17T09:46:53.052445/checkpoints/assets\n",
            "Epoch 4/200\n",
            "63/63 [==============================] - 19s 297ms/step - loss: 0.1545 - accuracy: 0.9405 - val_loss: 0.1027 - val_accuracy: 0.9550\n",
            "INFO:tensorflow:Assets written to: cats_and_dogs_filtered/cats_and_dogs_filtered_model/2021-08-17T09:46:53.052445/checkpoints/assets\n",
            "Epoch 5/200\n",
            "63/63 [==============================] - 18s 293ms/step - loss: 0.1602 - accuracy: 0.9340 - val_loss: 0.0919 - val_accuracy: 0.9600\n",
            "INFO:tensorflow:Assets written to: cats_and_dogs_filtered/cats_and_dogs_filtered_model/2021-08-17T09:46:53.052445/checkpoints/assets\n",
            "Epoch 6/200\n",
            "63/63 [==============================] - 18s 286ms/step - loss: 0.1585 - accuracy: 0.9400 - val_loss: 0.1367 - val_accuracy: 0.9530\n",
            "INFO:tensorflow:Assets written to: cats_and_dogs_filtered/cats_and_dogs_filtered_model/2021-08-17T09:46:53.052445/checkpoints/assets\n",
            "Epoch 7/200\n",
            "63/63 [==============================] - 17s 272ms/step - loss: 0.1569 - accuracy: 0.9375 - val_loss: 0.1639 - val_accuracy: 0.9480\n",
            "INFO:tensorflow:Assets written to: cats_and_dogs_filtered/cats_and_dogs_filtered_model/2021-08-17T09:46:53.052445/checkpoints/assets\n",
            "Epoch 8/200\n",
            "63/63 [==============================] - 18s 286ms/step - loss: 0.1232 - accuracy: 0.9530 - val_loss: 0.2558 - val_accuracy: 0.9290\n",
            "INFO:tensorflow:Assets written to: cats_and_dogs_filtered/cats_and_dogs_filtered_model/2021-08-17T09:46:53.052445/checkpoints/assets\n"
          ],
          "name": "stdout"
        }
      ]
    },
    {
      "cell_type": "markdown",
      "metadata": {
        "id": "2zsZ_bMWFRes"
      },
      "source": [
        "## Model evaluation"
      ]
    },
    {
      "cell_type": "code",
      "metadata": {
        "cellView": "form",
        "id": "X05LgK8ANyuw"
      },
      "source": [
        "#@title Imports\n",
        "import matplotlib.pyplot as plt\n",
        "import pandas as pd\n",
        "import seaborn as sns\n",
        "\n",
        "sns.set_theme(style=\"whitegrid\")"
      ],
      "execution_count": 21,
      "outputs": []
    },
    {
      "cell_type": "code",
      "metadata": {
        "cellView": "form",
        "id": "M98ZcyytQmU8"
      },
      "source": [
        "#@title Helper function\n",
        "def get_metrics(training_history, metric, validation=True):\n",
        "    metrics = {\n",
        "        metric: training_history.get(metric)\n",
        "    }\n",
        "    if validation:\n",
        "        val_metric = \"val_\" + metric\n",
        "        metrics[val_metric] = training_history.get(val_metric)\n",
        "    return pd.DataFrame(metrics)"
      ],
      "execution_count": 22,
      "outputs": []
    },
    {
      "cell_type": "code",
      "metadata": {
        "colab": {
          "base_uri": "https://localhost:8080/",
          "height": 485
        },
        "cellView": "form",
        "id": "0vwrQdyVODhb",
        "outputId": "c10ef5d1-7d23-476b-8180-24864a9bb62b"
      },
      "source": [
        "#@title Plot training metrics\n",
        "rows, cols = 2, 1\n",
        "fig, axes = plt.subplots(rows, cols, figsize=(7*rows, 8*cols))\n",
        "\n",
        "accuracy = get_metrics(history.history, \"accuracy\")\n",
        "loss = get_metrics(history.history, \"loss\")\n",
        "sns.lineplot(data=accuracy, ax=axes[0])\n",
        "sns.lineplot(data=loss, ax=axes[1])\n",
        "plt.show()"
      ],
      "execution_count": 23,
      "outputs": [
        {
          "output_type": "display_data",
          "data": {
            "image/png": "[encoded data removed]",
            "text/plain": [
              "<Figure size 1008x576 with 2 Axes>"
            ]
          },
          "metadata": {
            "tags": []
          }
        }
      ]
    },
    {
      "cell_type": "code",
      "metadata": {
        "id": "u7kTSnQyT_fY"
      },
      "source": [
        "# %load_ext tensorboard\n",
        "# %tensorboard --logdir={tensorboard_logs_dir}"
      ],
      "execution_count": 24,
      "outputs": []
    },
    {
      "cell_type": "code",
      "metadata": {
        "cellView": "form",
        "id": "oEYxV05MT_fZ"
      },
      "source": [
        "#@title Testing the model \n",
        "# # Here's a codeblock just for fun. You should be able to upload an image here \n",
        "# # and have it classified without crashing\n",
        "\n",
        "# import numpy as np\n",
        "# from google.colab import files\n",
        "# from keras.preprocessing import image\n",
        "\n",
        "# uploaded = files.upload()\n",
        "\n",
        "# for fn in uploaded.keys():\n",
        " \n",
        "#   # predicting images\n",
        "#   path = '/content/' + fn\n",
        "#   img = image.load_img(path, target_size=(# YOUR CODE HERE))\n",
        "#   x = image.img_to_array(img)\n",
        "#   x = np.expand_dims(x, axis=0)\n",
        "\n",
        "#   images = np.vstack([x])\n",
        "#   classes = model.predict(images, batch_size=10)\n",
        "#   print(classes[0])\n",
        "#   if classes[0]>0.5:\n",
        "#     print(fn + \" is a dog\")\n",
        "#   else:\n",
        "#     print(fn + \" is a cat\")"
      ],
      "execution_count": 25,
      "outputs": []
    },
    {
      "cell_type": "markdown",
      "metadata": {
        "id": "1BBuAkowgXOf"
      },
      "source": [
        "## Saving the model to Google Drive"
      ]
    },
    {
      "cell_type": "code",
      "metadata": {
        "id": "_nZcE46JqlMY",
        "colab": {
          "base_uri": "https://localhost:8080/"
        },
        "cellView": "form",
        "outputId": "b6cd32e2-e7b9-4213-97ae-59e2a2a7ede8"
      },
      "source": [
        "#@title Copy the model checkpoints and logs to Google Drive\n",
        "from google.colab import drive\n",
        "\n",
        "drive.mount('/content/drive')\n",
        "google_drive_folder = \"/content/drive/MyDrive/tensorflow\"\n",
        "\n",
        "!mkdir {google_drive_folder}\n",
        "!cp -r {MODEL_LOGS_DIR} {google_drive_folder}"
      ],
      "execution_count": 26,
      "outputs": [
        {
          "output_type": "stream",
          "text": [
            "Mounted at /content/drive\n",
            "mkdir: cannot create directory ‘/content/drive/MyDrive/tensorflow’: File exists\n"
          ],
          "name": "stdout"
        }
      ]
    }
  ]
}